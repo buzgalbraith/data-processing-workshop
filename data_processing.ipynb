{
 "cells": [
  {
   "cell_type": "markdown",
   "id": "4b925710",
   "metadata": {},
   "source": [
    "# Data Processing Workshop \n",
    "Author: Buz Galbraith (buzgalbraith@gmail.com)\n",
    "\n",
    "## Import packages and set some variables for later"
   ]
  },
  {
   "cell_type": "code",
   "execution_count": 33,
   "id": "f91d7d9d",
   "metadata": {},
   "outputs": [],
   "source": [
    "import pydicom\n",
    "import os \n",
    "import numpy as np \n",
    "import polars as pl \n",
    "import datetime\n",
    "import copy\n",
    "import matplotlib.pyplot as plt\n",
    "import pydicom.pixels\n",
    "from pydicom import examples\n",
    "\n",
    "os.environ[\"DICOM_DATASET\"] = 'dicom_example/'\n",
    "os.environ[\"PROCESSED_DATA_DIR\"] = 'processed_data' \n",
    "\n"
   ]
  },
  {
   "cell_type": "markdown",
   "id": "df9aa135",
   "metadata": {},
   "source": [
    "## Motivation: The DICOM Standard\n",
    "### here is the header"
   ]
  },
  {
   "cell_type": "code",
   "execution_count": 2,
   "id": "4a11d35a",
   "metadata": {},
   "outputs": [
    {
     "data": {
      "text/plain": [
       "Dataset.file_meta -------------------------------\n",
       "(0002,0000) File Meta Information Group Length  UL: 196\n",
       "(0002,0001) File Meta Information Version       OB: b'\\x00\\x01'\n",
       "(0002,0002) Media Storage SOP Class UID         UI: Ultrasound Image Storage\n",
       "(0002,0003) Media Storage SOP Instance UID      UI: 1.3.6.1.4.1.5962.1.1.13.1.2.20040826185059.5457\n",
       "(0002,0010) Transfer Syntax UID                 UI: JPEG 2000 Image Compression (Lossless Only)\n",
       "(0002,0012) Implementation Class UID            UI: 1.3.6.1.4.1.5962.2\n",
       "(0002,0013) Implementation Version Name         SH: 'DCTOOL100'\n",
       "(0002,0016) Source Application Entity Title     AE: 'CLUNIE1'\n",
       "-------------------------------------------------\n",
       "(0008,0008) Image Type                          CS: ['DERIVED', 'PRIMARY', 'SMALL PARTS']\n",
       "(0008,0012) Instance Creation Date              DA: '20040826'\n",
       "(0008,0013) Instance Creation Time              TM: '185840'\n",
       "(0008,0014) Instance Creator UID                UI: 1.3.6.1.4.1.5962.3\n",
       "(0008,0016) SOP Class UID                       UI: Ultrasound Image Storage\n",
       "(0008,0018) SOP Instance UID                    UI: 1.3.6.1.4.1.5962.1.1.13.1.2.20040826185059.5457\n",
       "(0008,0020) Study Date                          DA: '20040826'\n",
       "(0008,0030) Study Time                          TM: '185059'\n",
       "(0008,0050) Accession Number                    SH: ''\n",
       "(0008,0060) Modality                            CS: 'US'\n",
       "(0008,0070) Manufacturer                        LO: 'G.E. Medical Systems'\n",
       "(0008,0080) Institution Name                    LO: 'BAPTIST MED CTR'\n",
       "(0008,0090) Referring Physician's Name          PN: ''\n",
       "(0008,0201) Timezone Offset From UTC            SH: '-0400'\n",
       "(0008,1010) Station Name                        SH: 'mvme22'\n",
       "(0008,1090) Manufacturer's Model Name           LO: 'LOGIQ 700'\n",
       "(0008,2111) Derivation Description              ST: 'JPEG 2000 reversible (lossless)'\n",
       "(0008,2112)  Source Image Sequence  1 item(s) ---- \n",
       "   (0008,1150) Referenced SOP Class UID            UI: Ultrasound Image Storage\n",
       "   (0008,1155) Referenced SOP Instance UID         UI: 1.3.6.1.4.1.5962.1.1.13.1.1.20040826185059.5457\n",
       "   (0040,A170)  Purpose of Reference Code Sequence  1 item(s) ---- \n",
       "      (0008,0100) Code Value                          SH: '121320'\n",
       "      (0008,0102) Coding Scheme Designator            SH: 'DCM'\n",
       "      (0008,0104) Code Meaning                        LO: 'Uncompressed predecessor'\n",
       "      ---------\n",
       "   ---------\n",
       "(0008,2122) Stage Number                        IS: '0'\n",
       "(0008,2124) Number of Stages                    IS: '1'\n",
       "(0008,2128) View Number                         IS: '0'\n",
       "(0008,212A) Number of Views in Stage            IS: '1'\n",
       "(0010,0010) Patient's Name                      PN: 'CompressedSamples^US1'\n",
       "(0010,0020) Patient ID                          LO: '13US1'\n",
       "(0010,0030) Patient's Birth Date                DA: ''\n",
       "(0010,0032) Patient's Birth Time                TM: ''\n",
       "(0010,0040) Patient's Sex                       CS: 'M'\n",
       "(0010,1020) Patient's Size                      DS: '0.000000'\n",
       "(0010,1030) Patient's Weight                    DS: '0.000000'\n",
       "(0010,21B0) Additional Patient History          LT: ''\n",
       "(0018,1000) Device Serial Number                LO: '4121885'\n",
       "(0018,1020) Software Versions                   LO: 'R1.0.D'\n",
       "(0020,000D) Study Instance UID                  UI: 1.3.6.1.4.1.5962.1.2.13.20040826185059.5457\n",
       "(0020,000E) Series Instance UID                 UI: 1.3.6.1.4.1.5962.1.3.13.1.20040826185059.5457\n",
       "(0020,0010) Study ID                            SH: '13US1'\n",
       "(0020,0011) Series Number                       IS: '1'\n",
       "(0020,0013) Instance Number                     IS: '2'\n",
       "(0020,0020) Patient Orientation                 CS: ''\n",
       "(0020,4000) Image Comments                      LT: Array of 31 elements\n",
       "(0028,0002) Samples per Pixel                   US: 3\n",
       "(0028,0004) Photometric Interpretation          CS: 'YBR_RCT'\n",
       "(0028,0006) Planar Configuration                US: 0\n",
       "(0028,0010) Rows                                US: 480\n",
       "(0028,0011) Columns                             US: 640\n",
       "(0028,0100) Bits Allocated                      US: 8\n",
       "(0028,0101) Bits Stored                         US: 8\n",
       "(0028,0102) High Bit                            US: 7\n",
       "(0028,0103) Pixel Representation                US: 0\n",
       "(0028,2110) Lossy Image Compression             CS: '00'\n",
       "(7FE0,0010) Pixel Data                          OB: Array of 152326 elements"
      ]
     },
     "execution_count": 2,
     "metadata": {},
     "output_type": "execute_result"
    }
   ],
   "source": [
    "path = examples._get_path(\"jpeg2k\")\n",
    "header = pydicom.dcmread(path)\n",
    "header"
   ]
  },
  {
   "cell_type": "markdown",
   "id": "3b78425b",
   "metadata": {},
   "source": [
    "### lets look at the image its self "
   ]
  },
  {
   "cell_type": "code",
   "execution_count": 3,
   "id": "524a37da",
   "metadata": {},
   "outputs": [
    {
     "name": "stdout",
     "output_type": "stream",
     "text": [
      "the pixel data is stored as <class 'bytes'>\n",
      "the pixel data is stored as <class 'numpy.ndarray'>\n"
     ]
    },
    {
     "data": {
      "text/plain": [
       "<matplotlib.image.AxesImage at 0x7fb99559f1c0>"
      ]
     },
     "execution_count": 3,
     "metadata": {},
     "output_type": "execute_result"
    },
    {
     "data": {
      "image/png": "[encoded data removed]",
      "text/plain": [
       "<Figure size 640x480 with 1 Axes>"
      ]
     },
     "metadata": {},
     "output_type": "display_data"
    }
   ],
   "source": [
    "pd = header.PixelData\n",
    "pd_array = pydicom.pixels.pixel_array(header, decoding_plugin='pillow')\n",
    "print(f'the pixel data is stored as {type(pd)}')\n",
    "print(f'the pixel data is stored as {type(pd_array)}')\n",
    "plt.imshow(pd_array, cmap='gray')"
   ]
  },
  {
   "cell_type": "markdown",
   "id": "da5b3152",
   "metadata": {},
   "source": [
    "## Case Study: Data Extraction\n",
    "### use bash to get a list of all files in the dataset, and write them to a table of contents file."
   ]
  },
  {
   "cell_type": "code",
   "execution_count": 4,
   "id": "3fc7027c",
   "metadata": {},
   "outputs": [],
   "source": [
    "! find $DICOM_DATASET -type 'f' > $PROCESSED_DATA_DIR/cohort/toc.txt"
   ]
  },
  {
   "cell_type": "markdown",
   "id": "78107403",
   "metadata": {},
   "source": [
    "### lets load in the table of contents and look at our dataset."
   ]
  },
  {
   "cell_type": "code",
   "execution_count": 34,
   "id": "ea8734f7",
   "metadata": {},
   "outputs": [
    {
     "data": {
      "text/html": [
       "<div><style>\n",
       ".dataframe > thead > tr,\n",
       ".dataframe > tbody > tr {\n",
       "  text-align: right;\n",
       "  white-space: pre-wrap;\n",
       "}\n",
       "</style>\n",
       "<small>shape: (5, 1)</small><table border=\"1\" class=\"dataframe\"><thead><tr><th>relative_path</th></tr><tr><td>str</td></tr></thead><tbody><tr><td>&quot;dicom_example/98892003/MR1/491…</td></tr><tr><td>&quot;dicom_example/98892003/MR1/158…</td></tr><tr><td>&quot;dicom_example/98892003/MR1/564…</td></tr><tr><td>&quot;dicom_example/98892003/MR700/4…</td></tr><tr><td>&quot;dicom_example/98892003/MR700/4…</td></tr></tbody></table></div>"
      ],
      "text/plain": [
       "shape: (5, 1)\n",
       "┌─────────────────────────────────┐\n",
       "│ relative_path                   │\n",
       "│ ---                             │\n",
       "│ str                             │\n",
       "╞═════════════════════════════════╡\n",
       "│ dicom_example/98892003/MR1/491… │\n",
       "│ dicom_example/98892003/MR1/158… │\n",
       "│ dicom_example/98892003/MR1/564… │\n",
       "│ dicom_example/98892003/MR700/4… │\n",
       "│ dicom_example/98892003/MR700/4… │\n",
       "└─────────────────────────────────┘"
      ]
     },
     "execution_count": 34,
     "metadata": {},
     "output_type": "execute_result"
    }
   ],
   "source": [
    "toc = pl.read_csv(\n",
    "    os.path.join(os.environ[\"PROCESSED_DATA_DIR\"], 'cohort', 'toc.txt'),\n",
    "    has_header=False, new_columns=['relative_path']\n",
    "    )\n",
    "toc.head()"
   ]
  },
  {
   "cell_type": "markdown",
   "id": "ab60cb6e",
   "metadata": {},
   "source": [
    "### Extract data from those DICOM files."
   ]
  },
  {
   "cell_type": "code",
   "execution_count": 6,
   "id": "b38da56b",
   "metadata": {},
   "outputs": [],
   "source": [
    "dicom_fields = ['PatientName', 'PatientID', 'AccessionNumber', 'StudyDate', 'Modality', 'StudyDescription', 'PatientSex', 'PatientAge', 'PatientWeight', 'ImageOrientationPatient']"
   ]
  },
  {
   "cell_type": "markdown",
   "id": "f26f4fd4",
   "metadata": {},
   "source": [
    "### now lets extract the relevant fields from our metadata values"
   ]
  },
  {
   "cell_type": "code",
   "execution_count": 7,
   "id": "69e56273",
   "metadata": {},
   "outputs": [],
   "source": [
    "def safe_retrive(dicom_object, key):\n",
    "    try:\n",
    "        value = dicom_object[key].value\n",
    "        if isinstance(value, pydicom.multival.MultiValue):\n",
    "            return list(value)\n",
    "        elif isinstance(value, pydicom.valuerep.PersonName):\n",
    "            return str(value)\n",
    "        else:\n",
    "            return value\n",
    "    except:\n",
    "        return None\n",
    "\n",
    "def get_dicom_fields(f_name:str, dicom_fields:list):\n",
    "    \"\"\"reads in a dicom file, and returns a dictionary with the requested metadata extracted from that file.\"\"\"\n",
    "    header = pydicom.dcmread(f_name)\n",
    "    dicom_dict = {\n",
    "        field_name : safe_retrive( header, field_name) for field_name in dicom_fields\n",
    "    }\n",
    "    \n",
    "    dicom_dict['relative_path'] = f_name\n",
    "    return dicom_dict\n"
   ]
  },
  {
   "cell_type": "code",
   "execution_count": 8,
   "id": "3a5c0dbf",
   "metadata": {},
   "outputs": [
    {
     "data": {
      "text/html": [
       "<div><style>\n",
       ".dataframe > thead > tr,\n",
       ".dataframe > tbody > tr {\n",
       "  text-align: right;\n",
       "  white-space: pre-wrap;\n",
       "}\n",
       "</style>\n",
       "<small>shape: (81, 11)</small><table border=\"1\" class=\"dataframe\"><thead><tr><th>PatientName</th><th>PatientID</th><th>AccessionNumber</th><th>StudyDate</th><th>Modality</th><th>StudyDescription</th><th>PatientSex</th><th>PatientAge</th><th>PatientWeight</th><th>ImageOrientationPatient</th><th>relative_path</th></tr><tr><td>str</td><td>str</td><td>str</td><td>str</td><td>str</td><td>str</td><td>str</td><td>str</td><td>f64</td><td>list[f64]</td><td>str</td></tr></thead><tbody><tr><td>&quot;Doe^Peter&quot;</td><td>&quot;98890234&quot;</td><td>&quot;134&quot;</td><td>&quot;20030505&quot;</td><td>&quot;MR&quot;</td><td>&quot;Brain&quot;</td><td>&quot;M&quot;</td><td>&quot;045Y&quot;</td><td>81.6327</td><td>[0.0, 1.0, … -1.0]</td><td>&quot;dicom_example/98892003/MR1/491…</td></tr><tr><td>&quot;Doe^Peter&quot;</td><td>&quot;98890234&quot;</td><td>&quot;428&quot;</td><td>&quot;20030505&quot;</td><td>&quot;MR&quot;</td><td>&quot;Carotids&quot;</td><td>&quot;M&quot;</td><td>&quot;045Y&quot;</td><td>81.6327</td><td>[0.0, 1.0, … -1.0]</td><td>&quot;dicom_example/98892003/MR1/158…</td></tr><tr><td>&quot;Doe^Peter&quot;</td><td>&quot;98890234&quot;</td><td>&quot;2&quot;</td><td>&quot;20030505&quot;</td><td>&quot;MR&quot;</td><td>&quot;Brain-MRA&quot;</td><td>&quot;M&quot;</td><td>&quot;045Y&quot;</td><td>81.6327</td><td>[0.0, 1.0, … -1.0]</td><td>&quot;dicom_example/98892003/MR1/564…</td></tr><tr><td>&quot;Doe^Peter&quot;</td><td>&quot;98890234&quot;</td><td>&quot;2&quot;</td><td>&quot;20030505&quot;</td><td>&quot;MR&quot;</td><td>&quot;Brain-MRA&quot;</td><td>&quot;M&quot;</td><td>&quot;045Y&quot;</td><td>81.6327</td><td>[0.414374, 0.910111, … -1.0]</td><td>&quot;dicom_example/98892003/MR700/4…</td></tr><tr><td>&quot;Doe^Peter&quot;</td><td>&quot;98890234&quot;</td><td>&quot;2&quot;</td><td>&quot;20030505&quot;</td><td>&quot;MR&quot;</td><td>&quot;Brain-MRA&quot;</td><td>&quot;M&quot;</td><td>&quot;045Y&quot;</td><td>81.6327</td><td>[0.840635, 0.54161, … -1.0]</td><td>&quot;dicom_example/98892003/MR700/4…</td></tr><tr><td>&hellip;</td><td>&hellip;</td><td>&hellip;</td><td>&hellip;</td><td>&hellip;</td><td>&hellip;</td><td>&hellip;</td><td>&hellip;</td><td>&hellip;</td><td>&hellip;</td><td>&hellip;</td></tr><tr><td>&quot;Citizen^Jan&quot;</td><td>&quot;12345678&quot;</td><td>&quot;1&quot;</td><td>&quot;20200913&quot;</td><td>&quot;CT&quot;</td><td>&quot;Testing File-set&quot;</td><td>null</td><td>null</td><td>null</td><td>null</td><td>&quot;dicom_example/TINY_ALPHA/PT000…</td></tr><tr><td>&quot;Citizen^Jan&quot;</td><td>&quot;12345678&quot;</td><td>&quot;1&quot;</td><td>&quot;20200913&quot;</td><td>&quot;CT&quot;</td><td>&quot;Testing File-set&quot;</td><td>null</td><td>null</td><td>null</td><td>null</td><td>&quot;dicom_example/TINY_ALPHA/PT000…</td></tr><tr><td>&quot;Citizen^Jan&quot;</td><td>&quot;12345678&quot;</td><td>&quot;1&quot;</td><td>&quot;20200913&quot;</td><td>&quot;CT&quot;</td><td>&quot;Testing File-set&quot;</td><td>null</td><td>null</td><td>null</td><td>null</td><td>&quot;dicom_example/TINY_ALPHA/PT000…</td></tr><tr><td>&quot;Citizen^Jan&quot;</td><td>&quot;12345678&quot;</td><td>&quot;1&quot;</td><td>&quot;20200913&quot;</td><td>&quot;CT&quot;</td><td>&quot;Testing File-set&quot;</td><td>null</td><td>null</td><td>null</td><td>null</td><td>&quot;dicom_example/TINY_ALPHA/PT000…</td></tr><tr><td>&quot;Citizen^Jan&quot;</td><td>&quot;12345678&quot;</td><td>&quot;1&quot;</td><td>&quot;20200913&quot;</td><td>&quot;CT&quot;</td><td>&quot;Testing File-set&quot;</td><td>null</td><td>null</td><td>null</td><td>null</td><td>&quot;dicom_example/TINY_ALPHA/PT000…</td></tr></tbody></table></div>"
      ],
      "text/plain": [
       "shape: (81, 11)\n",
       "┌───────────┬───────────┬───────────┬───────────┬───┬───────────┬───────────┬───────────┬──────────┐\n",
       "│ PatientNa ┆ PatientID ┆ Accession ┆ StudyDate ┆ … ┆ PatientAg ┆ PatientWe ┆ ImageOrie ┆ relative │\n",
       "│ me        ┆ ---       ┆ Number    ┆ ---       ┆   ┆ e         ┆ ight      ┆ ntationPa ┆ _path    │\n",
       "│ ---       ┆ str       ┆ ---       ┆ str       ┆   ┆ ---       ┆ ---       ┆ tient     ┆ ---      │\n",
       "│ str       ┆           ┆ str       ┆           ┆   ┆ str       ┆ f64       ┆ ---       ┆ str      │\n",
       "│           ┆           ┆           ┆           ┆   ┆           ┆           ┆ list[f64] ┆          │\n",
       "╞═══════════╪═══════════╪═══════════╪═══════════╪═══╪═══════════╪═══════════╪═══════════╪══════════╡\n",
       "│ Doe^Peter ┆ 98890234  ┆ 134       ┆ 20030505  ┆ … ┆ 045Y      ┆ 81.6327   ┆ [0.0,     ┆ dicom_ex │\n",
       "│           ┆           ┆           ┆           ┆   ┆           ┆           ┆ 1.0, …    ┆ ample/98 │\n",
       "│           ┆           ┆           ┆           ┆   ┆           ┆           ┆ -1.0]     ┆ 892003/M │\n",
       "│           ┆           ┆           ┆           ┆   ┆           ┆           ┆           ┆ R1/491…  │\n",
       "│ Doe^Peter ┆ 98890234  ┆ 428       ┆ 20030505  ┆ … ┆ 045Y      ┆ 81.6327   ┆ [0.0,     ┆ dicom_ex │\n",
       "│           ┆           ┆           ┆           ┆   ┆           ┆           ┆ 1.0, …    ┆ ample/98 │\n",
       "│           ┆           ┆           ┆           ┆   ┆           ┆           ┆ -1.0]     ┆ 892003/M │\n",
       "│           ┆           ┆           ┆           ┆   ┆           ┆           ┆           ┆ R1/158…  │\n",
       "│ Doe^Peter ┆ 98890234  ┆ 2         ┆ 20030505  ┆ … ┆ 045Y      ┆ 81.6327   ┆ [0.0,     ┆ dicom_ex │\n",
       "│           ┆           ┆           ┆           ┆   ┆           ┆           ┆ 1.0, …    ┆ ample/98 │\n",
       "│           ┆           ┆           ┆           ┆   ┆           ┆           ┆ -1.0]     ┆ 892003/M │\n",
       "│           ┆           ┆           ┆           ┆   ┆           ┆           ┆           ┆ R1/564…  │\n",
       "│ Doe^Peter ┆ 98890234  ┆ 2         ┆ 20030505  ┆ … ┆ 045Y      ┆ 81.6327   ┆ [0.414374 ┆ dicom_ex │\n",
       "│           ┆           ┆           ┆           ┆   ┆           ┆           ┆ ,         ┆ ample/98 │\n",
       "│           ┆           ┆           ┆           ┆   ┆           ┆           ┆ 0.910111, ┆ 892003/M │\n",
       "│           ┆           ┆           ┆           ┆   ┆           ┆           ┆ … -1.0]   ┆ R700/4…  │\n",
       "│ Doe^Peter ┆ 98890234  ┆ 2         ┆ 20030505  ┆ … ┆ 045Y      ┆ 81.6327   ┆ [0.840635 ┆ dicom_ex │\n",
       "│           ┆           ┆           ┆           ┆   ┆           ┆           ┆ ,         ┆ ample/98 │\n",
       "│           ┆           ┆           ┆           ┆   ┆           ┆           ┆ 0.54161,  ┆ 892003/M │\n",
       "│           ┆           ┆           ┆           ┆   ┆           ┆           ┆ … -1.0]   ┆ R700/4…  │\n",
       "│ …         ┆ …         ┆ …         ┆ …         ┆ … ┆ …         ┆ …         ┆ …         ┆ …        │\n",
       "│ Citizen^J ┆ 12345678  ┆ 1         ┆ 20200913  ┆ … ┆ null      ┆ null      ┆ null      ┆ dicom_ex │\n",
       "│ an        ┆           ┆           ┆           ┆   ┆           ┆           ┆           ┆ ample/TI │\n",
       "│           ┆           ┆           ┆           ┆   ┆           ┆           ┆           ┆ NY_ALPHA │\n",
       "│           ┆           ┆           ┆           ┆   ┆           ┆           ┆           ┆ /PT000…  │\n",
       "│ Citizen^J ┆ 12345678  ┆ 1         ┆ 20200913  ┆ … ┆ null      ┆ null      ┆ null      ┆ dicom_ex │\n",
       "│ an        ┆           ┆           ┆           ┆   ┆           ┆           ┆           ┆ ample/TI │\n",
       "│           ┆           ┆           ┆           ┆   ┆           ┆           ┆           ┆ NY_ALPHA │\n",
       "│           ┆           ┆           ┆           ┆   ┆           ┆           ┆           ┆ /PT000…  │\n",
       "│ Citizen^J ┆ 12345678  ┆ 1         ┆ 20200913  ┆ … ┆ null      ┆ null      ┆ null      ┆ dicom_ex │\n",
       "│ an        ┆           ┆           ┆           ┆   ┆           ┆           ┆           ┆ ample/TI │\n",
       "│           ┆           ┆           ┆           ┆   ┆           ┆           ┆           ┆ NY_ALPHA │\n",
       "│           ┆           ┆           ┆           ┆   ┆           ┆           ┆           ┆ /PT000…  │\n",
       "│ Citizen^J ┆ 12345678  ┆ 1         ┆ 20200913  ┆ … ┆ null      ┆ null      ┆ null      ┆ dicom_ex │\n",
       "│ an        ┆           ┆           ┆           ┆   ┆           ┆           ┆           ┆ ample/TI │\n",
       "│           ┆           ┆           ┆           ┆   ┆           ┆           ┆           ┆ NY_ALPHA │\n",
       "│           ┆           ┆           ┆           ┆   ┆           ┆           ┆           ┆ /PT000…  │\n",
       "│ Citizen^J ┆ 12345678  ┆ 1         ┆ 20200913  ┆ … ┆ null      ┆ null      ┆ null      ┆ dicom_ex │\n",
       "│ an        ┆           ┆           ┆           ┆   ┆           ┆           ┆           ┆ ample/TI │\n",
       "│           ┆           ┆           ┆           ┆   ┆           ┆           ┆           ┆ NY_ALPHA │\n",
       "│           ┆           ┆           ┆           ┆   ┆           ┆           ┆           ┆ /PT000…  │\n",
       "└───────────┴───────────┴───────────┴───────────┴───┴───────────┴───────────┴───────────┴──────────┘"
      ]
     },
     "execution_count": 8,
     "metadata": {},
     "output_type": "execute_result"
    }
   ],
   "source": [
    "meta_rows = []\n",
    "for f_name in toc.iter_rows():\n",
    "    meta_rows.append(get_dicom_fields(f_name=f_name[0], dicom_fields=dicom_fields))\n",
    "meta = pl.from_dicts(meta_rows)\n",
    "meta"
   ]
  },
  {
   "cell_type": "markdown",
   "id": "f237ee5f",
   "metadata": {},
   "source": [
    "### lets take a look at our dataset to see what we are dealing with "
   ]
  },
  {
   "cell_type": "code",
   "execution_count": 9,
   "id": "78ba200d",
   "metadata": {},
   "outputs": [
    {
     "data": {
      "text/html": [
       "<div><style>\n",
       ".dataframe > thead > tr,\n",
       ".dataframe > tbody > tr {\n",
       "  text-align: right;\n",
       "  white-space: pre-wrap;\n",
       "}\n",
       "</style>\n",
       "<small>shape: (9, 12)</small><table border=\"1\" class=\"dataframe\"><thead><tr><th>statistic</th><th>PatientName</th><th>PatientID</th><th>AccessionNumber</th><th>StudyDate</th><th>Modality</th><th>StudyDescription</th><th>PatientSex</th><th>PatientAge</th><th>PatientWeight</th><th>ImageOrientationPatient</th><th>relative_path</th></tr><tr><td>str</td><td>str</td><td>str</td><td>str</td><td>str</td><td>str</td><td>str</td><td>str</td><td>str</td><td>f64</td><td>f64</td><td>str</td></tr></thead><tbody><tr><td>&quot;count&quot;</td><td>&quot;81&quot;</td><td>&quot;81&quot;</td><td>&quot;81&quot;</td><td>&quot;81&quot;</td><td>&quot;81&quot;</td><td>&quot;81&quot;</td><td>&quot;31&quot;</td><td>&quot;31&quot;</td><td>17.0</td><td>28.0</td><td>&quot;81&quot;</td></tr><tr><td>&quot;null_count&quot;</td><td>&quot;0&quot;</td><td>&quot;0&quot;</td><td>&quot;0&quot;</td><td>&quot;0&quot;</td><td>&quot;0&quot;</td><td>&quot;0&quot;</td><td>&quot;50&quot;</td><td>&quot;50&quot;</td><td>64.0</td><td>53.0</td><td>&quot;0&quot;</td></tr><tr><td>&quot;mean&quot;</td><td>null</td><td>null</td><td>null</td><td>null</td><td>null</td><td>null</td><td>null</td><td>null</td><td>81.6327</td><td>null</td><td>null</td></tr><tr><td>&quot;std&quot;</td><td>null</td><td>null</td><td>null</td><td>null</td><td>null</td><td>null</td><td>null</td><td>null</td><td>0.0</td><td>null</td><td>null</td></tr><tr><td>&quot;min&quot;</td><td>&quot;Citizen^Jan&quot;</td><td>&quot;12345678&quot;</td><td>&quot;1&quot;</td><td>&quot;19950903&quot;</td><td>&quot;CR&quot;</td><td>&quot;&quot;</td><td>&quot;&quot;</td><td>&quot;042Y&quot;</td><td>81.6327</td><td>null</td><td>&quot;dicom_example/77654033/CR1/615…</td></tr><tr><td>&quot;25%&quot;</td><td>null</td><td>null</td><td>null</td><td>null</td><td>null</td><td>null</td><td>null</td><td>null</td><td>81.6327</td><td>null</td><td>null</td></tr><tr><td>&quot;50%&quot;</td><td>null</td><td>null</td><td>null</td><td>null</td><td>null</td><td>null</td><td>null</td><td>null</td><td>81.6327</td><td>null</td><td>null</td></tr><tr><td>&quot;75%&quot;</td><td>null</td><td>null</td><td>null</td><td>null</td><td>null</td><td>null</td><td>null</td><td>null</td><td>81.6327</td><td>null</td><td>null</td></tr><tr><td>&quot;max&quot;</td><td>&quot;Doe^Peter&quot;</td><td>&quot;98890234&quot;</td><td>&quot;428&quot;</td><td>&quot;20200913&quot;</td><td>&quot;MR&quot;</td><td>&quot;XR C Spine Comp Min 4 Views&quot;</td><td>&quot;M&quot;</td><td>&quot;047Y&quot;</td><td>81.6327</td><td>null</td><td>&quot;dicom_example/TINY_ALPHA/PT000…</td></tr></tbody></table></div>"
      ],
      "text/plain": [
       "shape: (9, 12)\n",
       "┌───────────┬───────────┬───────────┬───────────┬───┬───────────┬───────────┬───────────┬──────────┐\n",
       "│ statistic ┆ PatientNa ┆ PatientID ┆ Accession ┆ … ┆ PatientAg ┆ PatientWe ┆ ImageOrie ┆ relative │\n",
       "│ ---       ┆ me        ┆ ---       ┆ Number    ┆   ┆ e         ┆ ight      ┆ ntationPa ┆ _path    │\n",
       "│ str       ┆ ---       ┆ str       ┆ ---       ┆   ┆ ---       ┆ ---       ┆ tient     ┆ ---      │\n",
       "│           ┆ str       ┆           ┆ str       ┆   ┆ str       ┆ f64       ┆ ---       ┆ str      │\n",
       "│           ┆           ┆           ┆           ┆   ┆           ┆           ┆ f64       ┆          │\n",
       "╞═══════════╪═══════════╪═══════════╪═══════════╪═══╪═══════════╪═══════════╪═══════════╪══════════╡\n",
       "│ count     ┆ 81        ┆ 81        ┆ 81        ┆ … ┆ 31        ┆ 17.0      ┆ 28.0      ┆ 81       │\n",
       "│ null_coun ┆ 0         ┆ 0         ┆ 0         ┆ … ┆ 50        ┆ 64.0      ┆ 53.0      ┆ 0        │\n",
       "│ t         ┆           ┆           ┆           ┆   ┆           ┆           ┆           ┆          │\n",
       "│ mean      ┆ null      ┆ null      ┆ null      ┆ … ┆ null      ┆ 81.6327   ┆ null      ┆ null     │\n",
       "│ std       ┆ null      ┆ null      ┆ null      ┆ … ┆ null      ┆ 0.0       ┆ null      ┆ null     │\n",
       "│ min       ┆ Citizen^J ┆ 12345678  ┆ 1         ┆ … ┆ 042Y      ┆ 81.6327   ┆ null      ┆ dicom_ex │\n",
       "│           ┆ an        ┆           ┆           ┆   ┆           ┆           ┆           ┆ ample/77 │\n",
       "│           ┆           ┆           ┆           ┆   ┆           ┆           ┆           ┆ 654033/C │\n",
       "│           ┆           ┆           ┆           ┆   ┆           ┆           ┆           ┆ R1/615…  │\n",
       "│ 25%       ┆ null      ┆ null      ┆ null      ┆ … ┆ null      ┆ 81.6327   ┆ null      ┆ null     │\n",
       "│ 50%       ┆ null      ┆ null      ┆ null      ┆ … ┆ null      ┆ 81.6327   ┆ null      ┆ null     │\n",
       "│ 75%       ┆ null      ┆ null      ┆ null      ┆ … ┆ null      ┆ 81.6327   ┆ null      ┆ null     │\n",
       "│ max       ┆ Doe^Peter ┆ 98890234  ┆ 428       ┆ … ┆ 047Y      ┆ 81.6327   ┆ null      ┆ dicom_ex │\n",
       "│           ┆           ┆           ┆           ┆   ┆           ┆           ┆           ┆ ample/TI │\n",
       "│           ┆           ┆           ┆           ┆   ┆           ┆           ┆           ┆ NY_ALPHA │\n",
       "│           ┆           ┆           ┆           ┆   ┆           ┆           ┆           ┆ /PT000…  │\n",
       "└───────────┴───────────┴───────────┴───────────┴───┴───────────┴───────────┴───────────┴──────────┘"
      ]
     },
     "execution_count": 9,
     "metadata": {},
     "output_type": "execute_result"
    }
   ],
   "source": [
    "meta.describe()"
   ]
  },
  {
   "cell_type": "code",
   "execution_count": 10,
   "id": "b9a5e045",
   "metadata": {},
   "outputs": [
    {
     "name": "stdout",
     "output_type": "stream",
     "text": [
      "shape: (3, 2)\n",
      "┌──────────┬─────┐\n",
      "│ Modality ┆ len │\n",
      "│ ---      ┆ --- │\n",
      "│ str      ┆ u32 │\n",
      "╞══════════╪═════╡\n",
      "│ CR       ┆ 3   │\n",
      "│ CT       ┆ 61  │\n",
      "│ MR       ┆ 17  │\n",
      "└──────────┴─────┘\n",
      "shape: (3, 2)\n",
      "┌───────────────┬─────┐\n",
      "│ PatientName   ┆ len │\n",
      "│ ---           ┆ --- │\n",
      "│ str           ┆ u32 │\n",
      "╞═══════════════╪═════╡\n",
      "│ Doe^Archibald ┆ 7   │\n",
      "│ Citizen^Jan   ┆ 50  │\n",
      "│ Doe^Peter     ┆ 24  │\n",
      "└───────────────┴─────┘\n",
      "shape: (7, 2)\n",
      "┌─────────────────────────────┬─────┐\n",
      "│ StudyDescription            ┆ len │\n",
      "│ ---                         ┆ --- │\n",
      "│ str                         ┆ u32 │\n",
      "╞═════════════════════════════╪═════╡\n",
      "│ XR C Spine Comp Min 4 Views ┆ 3   │\n",
      "│                             ┆ 7   │\n",
      "│ CT, HEAD/BRAIN WO CONTRAST  ┆ 4   │\n",
      "│ Testing File-set            ┆ 50  │\n",
      "│ Brain-MRA                   ┆ 11  │\n",
      "│ Carotids                    ┆ 2   │\n",
      "│ Brain                       ┆ 4   │\n",
      "└─────────────────────────────┴─────┘\n"
     ]
    }
   ],
   "source": [
    "print(meta.group_by(\"Modality\").len())\n",
    "print(meta.group_by(\"PatientName\").len())\n",
    "print(meta.group_by(\"StudyDescription\").len())\n"
   ]
  },
  {
   "cell_type": "markdown",
   "id": "1ea10ff0",
   "metadata": {},
   "source": [
    "## Case Study: Processing Iteration One\n",
    "### We first want to add a column with the absolute path to each directory"
   ]
  },
  {
   "cell_type": "code",
   "execution_count": 11,
   "id": "9e92ddcd",
   "metadata": {},
   "outputs": [
    {
     "data": {
      "text/html": [
       "<div><style>\n",
       ".dataframe > thead > tr,\n",
       ".dataframe > tbody > tr {\n",
       "  text-align: right;\n",
       "  white-space: pre-wrap;\n",
       "}\n",
       "</style>\n",
       "<small>shape: (5, 12)</small><table border=\"1\" class=\"dataframe\"><thead><tr><th>PatientName</th><th>PatientID</th><th>AccessionNumber</th><th>StudyDate</th><th>Modality</th><th>StudyDescription</th><th>PatientSex</th><th>PatientAge</th><th>PatientWeight</th><th>ImageOrientationPatient</th><th>relative_path</th><th>absolute_dir</th></tr><tr><td>str</td><td>str</td><td>str</td><td>str</td><td>str</td><td>str</td><td>str</td><td>str</td><td>f64</td><td>list[f64]</td><td>str</td><td>str</td></tr></thead><tbody><tr><td>&quot;Doe^Peter&quot;</td><td>&quot;98890234&quot;</td><td>&quot;134&quot;</td><td>&quot;20030505&quot;</td><td>&quot;MR&quot;</td><td>&quot;Brain&quot;</td><td>&quot;M&quot;</td><td>&quot;045Y&quot;</td><td>81.6327</td><td>[0.0, 1.0, … -1.0]</td><td>&quot;dicom_example/98892003/MR1/491…</td><td>&quot;/home/buzgalbraith/workspace/d…</td></tr><tr><td>&quot;Doe^Peter&quot;</td><td>&quot;98890234&quot;</td><td>&quot;428&quot;</td><td>&quot;20030505&quot;</td><td>&quot;MR&quot;</td><td>&quot;Carotids&quot;</td><td>&quot;M&quot;</td><td>&quot;045Y&quot;</td><td>81.6327</td><td>[0.0, 1.0, … -1.0]</td><td>&quot;dicom_example/98892003/MR1/158…</td><td>&quot;/home/buzgalbraith/workspace/d…</td></tr><tr><td>&quot;Doe^Peter&quot;</td><td>&quot;98890234&quot;</td><td>&quot;2&quot;</td><td>&quot;20030505&quot;</td><td>&quot;MR&quot;</td><td>&quot;Brain-MRA&quot;</td><td>&quot;M&quot;</td><td>&quot;045Y&quot;</td><td>81.6327</td><td>[0.0, 1.0, … -1.0]</td><td>&quot;dicom_example/98892003/MR1/564…</td><td>&quot;/home/buzgalbraith/workspace/d…</td></tr><tr><td>&quot;Doe^Peter&quot;</td><td>&quot;98890234&quot;</td><td>&quot;2&quot;</td><td>&quot;20030505&quot;</td><td>&quot;MR&quot;</td><td>&quot;Brain-MRA&quot;</td><td>&quot;M&quot;</td><td>&quot;045Y&quot;</td><td>81.6327</td><td>[0.414374, 0.910111, … -1.0]</td><td>&quot;dicom_example/98892003/MR700/4…</td><td>&quot;/home/buzgalbraith/workspace/d…</td></tr><tr><td>&quot;Doe^Peter&quot;</td><td>&quot;98890234&quot;</td><td>&quot;2&quot;</td><td>&quot;20030505&quot;</td><td>&quot;MR&quot;</td><td>&quot;Brain-MRA&quot;</td><td>&quot;M&quot;</td><td>&quot;045Y&quot;</td><td>81.6327</td><td>[0.840635, 0.54161, … -1.0]</td><td>&quot;dicom_example/98892003/MR700/4…</td><td>&quot;/home/buzgalbraith/workspace/d…</td></tr></tbody></table></div>"
      ],
      "text/plain": [
       "shape: (5, 12)\n",
       "┌───────────┬───────────┬───────────┬───────────┬───┬───────────┬───────────┬───────────┬──────────┐\n",
       "│ PatientNa ┆ PatientID ┆ Accession ┆ StudyDate ┆ … ┆ PatientWe ┆ ImageOrie ┆ relative_ ┆ absolute │\n",
       "│ me        ┆ ---       ┆ Number    ┆ ---       ┆   ┆ ight      ┆ ntationPa ┆ path      ┆ _dir     │\n",
       "│ ---       ┆ str       ┆ ---       ┆ str       ┆   ┆ ---       ┆ tient     ┆ ---       ┆ ---      │\n",
       "│ str       ┆           ┆ str       ┆           ┆   ┆ f64       ┆ ---       ┆ str       ┆ str      │\n",
       "│           ┆           ┆           ┆           ┆   ┆           ┆ list[f64] ┆           ┆          │\n",
       "╞═══════════╪═══════════╪═══════════╪═══════════╪═══╪═══════════╪═══════════╪═══════════╪══════════╡\n",
       "│ Doe^Peter ┆ 98890234  ┆ 134       ┆ 20030505  ┆ … ┆ 81.6327   ┆ [0.0,     ┆ dicom_exa ┆ /home/bu │\n",
       "│           ┆           ┆           ┆           ┆   ┆           ┆ 1.0, …    ┆ mple/9889 ┆ zgalbrai │\n",
       "│           ┆           ┆           ┆           ┆   ┆           ┆ -1.0]     ┆ 2003/MR1/ ┆ th/works │\n",
       "│           ┆           ┆           ┆           ┆   ┆           ┆           ┆ 491…      ┆ pace/d…  │\n",
       "│ Doe^Peter ┆ 98890234  ┆ 428       ┆ 20030505  ┆ … ┆ 81.6327   ┆ [0.0,     ┆ dicom_exa ┆ /home/bu │\n",
       "│           ┆           ┆           ┆           ┆   ┆           ┆ 1.0, …    ┆ mple/9889 ┆ zgalbrai │\n",
       "│           ┆           ┆           ┆           ┆   ┆           ┆ -1.0]     ┆ 2003/MR1/ ┆ th/works │\n",
       "│           ┆           ┆           ┆           ┆   ┆           ┆           ┆ 158…      ┆ pace/d…  │\n",
       "│ Doe^Peter ┆ 98890234  ┆ 2         ┆ 20030505  ┆ … ┆ 81.6327   ┆ [0.0,     ┆ dicom_exa ┆ /home/bu │\n",
       "│           ┆           ┆           ┆           ┆   ┆           ┆ 1.0, …    ┆ mple/9889 ┆ zgalbrai │\n",
       "│           ┆           ┆           ┆           ┆   ┆           ┆ -1.0]     ┆ 2003/MR1/ ┆ th/works │\n",
       "│           ┆           ┆           ┆           ┆   ┆           ┆           ┆ 564…      ┆ pace/d…  │\n",
       "│ Doe^Peter ┆ 98890234  ┆ 2         ┆ 20030505  ┆ … ┆ 81.6327   ┆ [0.414374 ┆ dicom_exa ┆ /home/bu │\n",
       "│           ┆           ┆           ┆           ┆   ┆           ┆ ,         ┆ mple/9889 ┆ zgalbrai │\n",
       "│           ┆           ┆           ┆           ┆   ┆           ┆ 0.910111, ┆ 2003/MR70 ┆ th/works │\n",
       "│           ┆           ┆           ┆           ┆   ┆           ┆ … -1.0]   ┆ 0/4…      ┆ pace/d…  │\n",
       "│ Doe^Peter ┆ 98890234  ┆ 2         ┆ 20030505  ┆ … ┆ 81.6327   ┆ [0.840635 ┆ dicom_exa ┆ /home/bu │\n",
       "│           ┆           ┆           ┆           ┆   ┆           ┆ ,         ┆ mple/9889 ┆ zgalbrai │\n",
       "│           ┆           ┆           ┆           ┆   ┆           ┆ 0.54161,  ┆ 2003/MR70 ┆ th/works │\n",
       "│           ┆           ┆           ┆           ┆   ┆           ┆ … -1.0]   ┆ 0/4…      ┆ pace/d…  │\n",
       "└───────────┴───────────┴───────────┴───────────┴───┴───────────┴───────────┴───────────┴──────────┘"
      ]
     },
     "execution_count": 11,
     "metadata": {},
     "output_type": "execute_result"
    }
   ],
   "source": [
    "meta = meta.with_columns(\n",
    "        absolute_dir = os.getcwd()+ '/' + pl.col('relative_path')\n",
    "    )\n",
    "meta.head() "
   ]
  },
  {
   "cell_type": "markdown",
   "id": "f3380ada",
   "metadata": {},
   "source": [
    "### now lets filter for rows that, that have the patient name Citizen^Jan  "
   ]
  },
  {
   "cell_type": "code",
   "execution_count": 12,
   "id": "137c1290",
   "metadata": {},
   "outputs": [
    {
     "data": {
      "text/html": [
       "<div><style>\n",
       ".dataframe > thead > tr,\n",
       ".dataframe > tbody > tr {\n",
       "  text-align: right;\n",
       "  white-space: pre-wrap;\n",
       "}\n",
       "</style>\n",
       "<small>shape: (5, 12)</small><table border=\"1\" class=\"dataframe\"><thead><tr><th>PatientName</th><th>PatientID</th><th>AccessionNumber</th><th>StudyDate</th><th>Modality</th><th>StudyDescription</th><th>PatientSex</th><th>PatientAge</th><th>PatientWeight</th><th>ImageOrientationPatient</th><th>relative_path</th><th>absolute_dir</th></tr><tr><td>str</td><td>str</td><td>str</td><td>str</td><td>str</td><td>str</td><td>str</td><td>str</td><td>f64</td><td>list[f64]</td><td>str</td><td>str</td></tr></thead><tbody><tr><td>&quot;Doe^Peter&quot;</td><td>&quot;98890234&quot;</td><td>&quot;134&quot;</td><td>&quot;20030505&quot;</td><td>&quot;MR&quot;</td><td>&quot;Brain&quot;</td><td>&quot;M&quot;</td><td>&quot;045Y&quot;</td><td>81.6327</td><td>[0.0, 1.0, … -1.0]</td><td>&quot;dicom_example/98892003/MR1/491…</td><td>&quot;/home/buzgalbraith/workspace/d…</td></tr><tr><td>&quot;Doe^Peter&quot;</td><td>&quot;98890234&quot;</td><td>&quot;428&quot;</td><td>&quot;20030505&quot;</td><td>&quot;MR&quot;</td><td>&quot;Carotids&quot;</td><td>&quot;M&quot;</td><td>&quot;045Y&quot;</td><td>81.6327</td><td>[0.0, 1.0, … -1.0]</td><td>&quot;dicom_example/98892003/MR1/158…</td><td>&quot;/home/buzgalbraith/workspace/d…</td></tr><tr><td>&quot;Doe^Peter&quot;</td><td>&quot;98890234&quot;</td><td>&quot;2&quot;</td><td>&quot;20030505&quot;</td><td>&quot;MR&quot;</td><td>&quot;Brain-MRA&quot;</td><td>&quot;M&quot;</td><td>&quot;045Y&quot;</td><td>81.6327</td><td>[0.0, 1.0, … -1.0]</td><td>&quot;dicom_example/98892003/MR1/564…</td><td>&quot;/home/buzgalbraith/workspace/d…</td></tr><tr><td>&quot;Doe^Peter&quot;</td><td>&quot;98890234&quot;</td><td>&quot;2&quot;</td><td>&quot;20030505&quot;</td><td>&quot;MR&quot;</td><td>&quot;Brain-MRA&quot;</td><td>&quot;M&quot;</td><td>&quot;045Y&quot;</td><td>81.6327</td><td>[0.414374, 0.910111, … -1.0]</td><td>&quot;dicom_example/98892003/MR700/4…</td><td>&quot;/home/buzgalbraith/workspace/d…</td></tr><tr><td>&quot;Doe^Peter&quot;</td><td>&quot;98890234&quot;</td><td>&quot;2&quot;</td><td>&quot;20030505&quot;</td><td>&quot;MR&quot;</td><td>&quot;Brain-MRA&quot;</td><td>&quot;M&quot;</td><td>&quot;045Y&quot;</td><td>81.6327</td><td>[0.840635, 0.54161, … -1.0]</td><td>&quot;dicom_example/98892003/MR700/4…</td><td>&quot;/home/buzgalbraith/workspace/d…</td></tr></tbody></table></div>"
      ],
      "text/plain": [
       "shape: (5, 12)\n",
       "┌───────────┬───────────┬───────────┬───────────┬───┬───────────┬───────────┬───────────┬──────────┐\n",
       "│ PatientNa ┆ PatientID ┆ Accession ┆ StudyDate ┆ … ┆ PatientWe ┆ ImageOrie ┆ relative_ ┆ absolute │\n",
       "│ me        ┆ ---       ┆ Number    ┆ ---       ┆   ┆ ight      ┆ ntationPa ┆ path      ┆ _dir     │\n",
       "│ ---       ┆ str       ┆ ---       ┆ str       ┆   ┆ ---       ┆ tient     ┆ ---       ┆ ---      │\n",
       "│ str       ┆           ┆ str       ┆           ┆   ┆ f64       ┆ ---       ┆ str       ┆ str      │\n",
       "│           ┆           ┆           ┆           ┆   ┆           ┆ list[f64] ┆           ┆          │\n",
       "╞═══════════╪═══════════╪═══════════╪═══════════╪═══╪═══════════╪═══════════╪═══════════╪══════════╡\n",
       "│ Doe^Peter ┆ 98890234  ┆ 134       ┆ 20030505  ┆ … ┆ 81.6327   ┆ [0.0,     ┆ dicom_exa ┆ /home/bu │\n",
       "│           ┆           ┆           ┆           ┆   ┆           ┆ 1.0, …    ┆ mple/9889 ┆ zgalbrai │\n",
       "│           ┆           ┆           ┆           ┆   ┆           ┆ -1.0]     ┆ 2003/MR1/ ┆ th/works │\n",
       "│           ┆           ┆           ┆           ┆   ┆           ┆           ┆ 491…      ┆ pace/d…  │\n",
       "│ Doe^Peter ┆ 98890234  ┆ 428       ┆ 20030505  ┆ … ┆ 81.6327   ┆ [0.0,     ┆ dicom_exa ┆ /home/bu │\n",
       "│           ┆           ┆           ┆           ┆   ┆           ┆ 1.0, …    ┆ mple/9889 ┆ zgalbrai │\n",
       "│           ┆           ┆           ┆           ┆   ┆           ┆ -1.0]     ┆ 2003/MR1/ ┆ th/works │\n",
       "│           ┆           ┆           ┆           ┆   ┆           ┆           ┆ 158…      ┆ pace/d…  │\n",
       "│ Doe^Peter ┆ 98890234  ┆ 2         ┆ 20030505  ┆ … ┆ 81.6327   ┆ [0.0,     ┆ dicom_exa ┆ /home/bu │\n",
       "│           ┆           ┆           ┆           ┆   ┆           ┆ 1.0, …    ┆ mple/9889 ┆ zgalbrai │\n",
       "│           ┆           ┆           ┆           ┆   ┆           ┆ -1.0]     ┆ 2003/MR1/ ┆ th/works │\n",
       "│           ┆           ┆           ┆           ┆   ┆           ┆           ┆ 564…      ┆ pace/d…  │\n",
       "│ Doe^Peter ┆ 98890234  ┆ 2         ┆ 20030505  ┆ … ┆ 81.6327   ┆ [0.414374 ┆ dicom_exa ┆ /home/bu │\n",
       "│           ┆           ┆           ┆           ┆   ┆           ┆ ,         ┆ mple/9889 ┆ zgalbrai │\n",
       "│           ┆           ┆           ┆           ┆   ┆           ┆ 0.910111, ┆ 2003/MR70 ┆ th/works │\n",
       "│           ┆           ┆           ┆           ┆   ┆           ┆ … -1.0]   ┆ 0/4…      ┆ pace/d…  │\n",
       "│ Doe^Peter ┆ 98890234  ┆ 2         ┆ 20030505  ┆ … ┆ 81.6327   ┆ [0.840635 ┆ dicom_exa ┆ /home/bu │\n",
       "│           ┆           ┆           ┆           ┆   ┆           ┆ ,         ┆ mple/9889 ┆ zgalbrai │\n",
       "│           ┆           ┆           ┆           ┆   ┆           ┆ 0.54161,  ┆ 2003/MR70 ┆ th/works │\n",
       "│           ┆           ┆           ┆           ┆   ┆           ┆ … -1.0]   ┆ 0/4…      ┆ pace/d…  │\n",
       "└───────────┴───────────┴───────────┴───────────┴───┴───────────┴───────────┴───────────┴──────────┘"
      ]
     },
     "execution_count": 12,
     "metadata": {},
     "output_type": "execute_result"
    }
   ],
   "source": [
    "meta = meta.filter(~pl.col('PatientName').eq('Citizen^Jan'))\n",
    "meta.head()"
   ]
  },
  {
   "cell_type": "markdown",
   "id": "5a09c0ec",
   "metadata": {},
   "source": [
    "### lets look out how that changed our dataset statistics"
   ]
  },
  {
   "cell_type": "code",
   "execution_count": 13,
   "id": "719963b2",
   "metadata": {},
   "outputs": [
    {
     "data": {
      "text/html": [
       "<div><style>\n",
       ".dataframe > thead > tr,\n",
       ".dataframe > tbody > tr {\n",
       "  text-align: right;\n",
       "  white-space: pre-wrap;\n",
       "}\n",
       "</style>\n",
       "<small>shape: (9, 13)</small><table border=\"1\" class=\"dataframe\"><thead><tr><th>statistic</th><th>PatientName</th><th>PatientID</th><th>AccessionNumber</th><th>StudyDate</th><th>Modality</th><th>StudyDescription</th><th>PatientSex</th><th>PatientAge</th><th>PatientWeight</th><th>ImageOrientationPatient</th><th>relative_path</th><th>absolute_dir</th></tr><tr><td>str</td><td>str</td><td>str</td><td>str</td><td>str</td><td>str</td><td>str</td><td>str</td><td>str</td><td>f64</td><td>f64</td><td>str</td><td>str</td></tr></thead><tbody><tr><td>&quot;count&quot;</td><td>&quot;31&quot;</td><td>&quot;31&quot;</td><td>&quot;31&quot;</td><td>&quot;31&quot;</td><td>&quot;31&quot;</td><td>&quot;31&quot;</td><td>&quot;31&quot;</td><td>&quot;31&quot;</td><td>17.0</td><td>28.0</td><td>&quot;31&quot;</td><td>&quot;31&quot;</td></tr><tr><td>&quot;null_count&quot;</td><td>&quot;0&quot;</td><td>&quot;0&quot;</td><td>&quot;0&quot;</td><td>&quot;0&quot;</td><td>&quot;0&quot;</td><td>&quot;0&quot;</td><td>&quot;0&quot;</td><td>&quot;0&quot;</td><td>14.0</td><td>3.0</td><td>&quot;0&quot;</td><td>&quot;0&quot;</td></tr><tr><td>&quot;mean&quot;</td><td>null</td><td>null</td><td>null</td><td>null</td><td>null</td><td>null</td><td>null</td><td>null</td><td>81.6327</td><td>null</td><td>null</td><td>null</td></tr><tr><td>&quot;std&quot;</td><td>null</td><td>null</td><td>null</td><td>null</td><td>null</td><td>null</td><td>null</td><td>null</td><td>0.0</td><td>null</td><td>null</td><td>null</td></tr><tr><td>&quot;min&quot;</td><td>&quot;Doe^Archibald&quot;</td><td>&quot;77654033&quot;</td><td>&quot;134&quot;</td><td>&quot;19950903&quot;</td><td>&quot;CR&quot;</td><td>&quot;&quot;</td><td>&quot;&quot;</td><td>&quot;042Y&quot;</td><td>81.6327</td><td>null</td><td>&quot;dicom_example/77654033/CR1/615…</td><td>&quot;/home/buzgalbraith/workspace/d…</td></tr><tr><td>&quot;25%&quot;</td><td>null</td><td>null</td><td>null</td><td>null</td><td>null</td><td>null</td><td>null</td><td>null</td><td>81.6327</td><td>null</td><td>null</td><td>null</td></tr><tr><td>&quot;50%&quot;</td><td>null</td><td>null</td><td>null</td><td>null</td><td>null</td><td>null</td><td>null</td><td>null</td><td>81.6327</td><td>null</td><td>null</td><td>null</td></tr><tr><td>&quot;75%&quot;</td><td>null</td><td>null</td><td>null</td><td>null</td><td>null</td><td>null</td><td>null</td><td>null</td><td>81.6327</td><td>null</td><td>null</td><td>null</td></tr><tr><td>&quot;max&quot;</td><td>&quot;Doe^Peter&quot;</td><td>&quot;98890234&quot;</td><td>&quot;428&quot;</td><td>&quot;20030505&quot;</td><td>&quot;MR&quot;</td><td>&quot;XR C Spine Comp Min 4 Views&quot;</td><td>&quot;M&quot;</td><td>&quot;047Y&quot;</td><td>81.6327</td><td>null</td><td>&quot;dicom_example/98892003/MR700/4…</td><td>&quot;/home/buzgalbraith/workspace/d…</td></tr></tbody></table></div>"
      ],
      "text/plain": [
       "shape: (9, 13)\n",
       "┌───────────┬───────────┬───────────┬───────────┬───┬───────────┬───────────┬───────────┬──────────┐\n",
       "│ statistic ┆ PatientNa ┆ PatientID ┆ Accession ┆ … ┆ PatientWe ┆ ImageOrie ┆ relative_ ┆ absolute │\n",
       "│ ---       ┆ me        ┆ ---       ┆ Number    ┆   ┆ ight      ┆ ntationPa ┆ path      ┆ _dir     │\n",
       "│ str       ┆ ---       ┆ str       ┆ ---       ┆   ┆ ---       ┆ tient     ┆ ---       ┆ ---      │\n",
       "│           ┆ str       ┆           ┆ str       ┆   ┆ f64       ┆ ---       ┆ str       ┆ str      │\n",
       "│           ┆           ┆           ┆           ┆   ┆           ┆ f64       ┆           ┆          │\n",
       "╞═══════════╪═══════════╪═══════════╪═══════════╪═══╪═══════════╪═══════════╪═══════════╪══════════╡\n",
       "│ count     ┆ 31        ┆ 31        ┆ 31        ┆ … ┆ 17.0      ┆ 28.0      ┆ 31        ┆ 31       │\n",
       "│ null_coun ┆ 0         ┆ 0         ┆ 0         ┆ … ┆ 14.0      ┆ 3.0       ┆ 0         ┆ 0        │\n",
       "│ t         ┆           ┆           ┆           ┆   ┆           ┆           ┆           ┆          │\n",
       "│ mean      ┆ null      ┆ null      ┆ null      ┆ … ┆ 81.6327   ┆ null      ┆ null      ┆ null     │\n",
       "│ std       ┆ null      ┆ null      ┆ null      ┆ … ┆ 0.0       ┆ null      ┆ null      ┆ null     │\n",
       "│ min       ┆ Doe^Archi ┆ 77654033  ┆ 134       ┆ … ┆ 81.6327   ┆ null      ┆ dicom_exa ┆ /home/bu │\n",
       "│           ┆ bald      ┆           ┆           ┆   ┆           ┆           ┆ mple/7765 ┆ zgalbrai │\n",
       "│           ┆           ┆           ┆           ┆   ┆           ┆           ┆ 4033/CR1/ ┆ th/works │\n",
       "│           ┆           ┆           ┆           ┆   ┆           ┆           ┆ 615…      ┆ pace/d…  │\n",
       "│ 25%       ┆ null      ┆ null      ┆ null      ┆ … ┆ 81.6327   ┆ null      ┆ null      ┆ null     │\n",
       "│ 50%       ┆ null      ┆ null      ┆ null      ┆ … ┆ 81.6327   ┆ null      ┆ null      ┆ null     │\n",
       "│ 75%       ┆ null      ┆ null      ┆ null      ┆ … ┆ 81.6327   ┆ null      ┆ null      ┆ null     │\n",
       "│ max       ┆ Doe^Peter ┆ 98890234  ┆ 428       ┆ … ┆ 81.6327   ┆ null      ┆ dicom_exa ┆ /home/bu │\n",
       "│           ┆           ┆           ┆           ┆   ┆           ┆           ┆ mple/9889 ┆ zgalbrai │\n",
       "│           ┆           ┆           ┆           ┆   ┆           ┆           ┆ 2003/MR70 ┆ th/works │\n",
       "│           ┆           ┆           ┆           ┆   ┆           ┆           ┆ 0/4…      ┆ pace/d…  │\n",
       "└───────────┴───────────┴───────────┴───────────┴───┴───────────┴───────────┴───────────┴──────────┘"
      ]
     },
     "execution_count": 13,
     "metadata": {},
     "output_type": "execute_result"
    }
   ],
   "source": [
    "meta.describe()"
   ]
  },
  {
   "cell_type": "code",
   "execution_count": 14,
   "id": "46f0262d",
   "metadata": {},
   "outputs": [
    {
     "name": "stdout",
     "output_type": "stream",
     "text": [
      "shape: (3, 2)\n",
      "┌──────────┬─────┐\n",
      "│ Modality ┆ len │\n",
      "│ ---      ┆ --- │\n",
      "│ str      ┆ u32 │\n",
      "╞══════════╪═════╡\n",
      "│ MR       ┆ 17  │\n",
      "│ CR       ┆ 3   │\n",
      "│ CT       ┆ 11  │\n",
      "└──────────┴─────┘\n",
      "shape: (2, 2)\n",
      "┌───────────────┬─────┐\n",
      "│ PatientName   ┆ len │\n",
      "│ ---           ┆ --- │\n",
      "│ str           ┆ u32 │\n",
      "╞═══════════════╪═════╡\n",
      "│ Doe^Peter     ┆ 24  │\n",
      "│ Doe^Archibald ┆ 7   │\n",
      "└───────────────┴─────┘\n",
      "shape: (6, 2)\n",
      "┌─────────────────────────────┬─────┐\n",
      "│ StudyDescription            ┆ len │\n",
      "│ ---                         ┆ --- │\n",
      "│ str                         ┆ u32 │\n",
      "╞═════════════════════════════╪═════╡\n",
      "│ CT, HEAD/BRAIN WO CONTRAST  ┆ 4   │\n",
      "│                             ┆ 7   │\n",
      "│ Brain                       ┆ 4   │\n",
      "│ XR C Spine Comp Min 4 Views ┆ 3   │\n",
      "│ Carotids                    ┆ 2   │\n",
      "│ Brain-MRA                   ┆ 11  │\n",
      "└─────────────────────────────┴─────┘\n"
     ]
    }
   ],
   "source": [
    "print(meta.group_by(\"Modality\").len())\n",
    "print(meta.group_by(\"PatientName\").len())\n",
    "print(meta.group_by(\"StudyDescription\").len())"
   ]
  },
  {
   "cell_type": "markdown",
   "id": "e96e21b5",
   "metadata": {},
   "source": [
    "## Case Study: Processing Iteration Two\n",
    "### Lets filter the data the for only MRI and CAT scans. "
   ]
  },
  {
   "cell_type": "code",
   "execution_count": 15,
   "id": "4c9978d1",
   "metadata": {},
   "outputs": [
    {
     "data": {
      "text/html": [
       "<div><style>\n",
       ".dataframe > thead > tr,\n",
       ".dataframe > tbody > tr {\n",
       "  text-align: right;\n",
       "  white-space: pre-wrap;\n",
       "}\n",
       "</style>\n",
       "<small>shape: (5, 12)</small><table border=\"1\" class=\"dataframe\"><thead><tr><th>PatientName</th><th>PatientID</th><th>AccessionNumber</th><th>StudyDate</th><th>Modality</th><th>StudyDescription</th><th>PatientSex</th><th>PatientAge</th><th>PatientWeight</th><th>ImageOrientationPatient</th><th>relative_path</th><th>absolute_dir</th></tr><tr><td>str</td><td>str</td><td>str</td><td>str</td><td>str</td><td>str</td><td>str</td><td>str</td><td>f64</td><td>list[f64]</td><td>str</td><td>str</td></tr></thead><tbody><tr><td>&quot;Doe^Peter&quot;</td><td>&quot;98890234&quot;</td><td>&quot;134&quot;</td><td>&quot;20030505&quot;</td><td>&quot;MR&quot;</td><td>&quot;Brain&quot;</td><td>&quot;M&quot;</td><td>&quot;045Y&quot;</td><td>81.6327</td><td>[0.0, 1.0, … -1.0]</td><td>&quot;dicom_example/98892003/MR1/491…</td><td>&quot;/home/buzgalbraith/workspace/d…</td></tr><tr><td>&quot;Doe^Peter&quot;</td><td>&quot;98890234&quot;</td><td>&quot;428&quot;</td><td>&quot;20030505&quot;</td><td>&quot;MR&quot;</td><td>&quot;Carotids&quot;</td><td>&quot;M&quot;</td><td>&quot;045Y&quot;</td><td>81.6327</td><td>[0.0, 1.0, … -1.0]</td><td>&quot;dicom_example/98892003/MR1/158…</td><td>&quot;/home/buzgalbraith/workspace/d…</td></tr><tr><td>&quot;Doe^Peter&quot;</td><td>&quot;98890234&quot;</td><td>&quot;2&quot;</td><td>&quot;20030505&quot;</td><td>&quot;MR&quot;</td><td>&quot;Brain-MRA&quot;</td><td>&quot;M&quot;</td><td>&quot;045Y&quot;</td><td>81.6327</td><td>[0.0, 1.0, … -1.0]</td><td>&quot;dicom_example/98892003/MR1/564…</td><td>&quot;/home/buzgalbraith/workspace/d…</td></tr><tr><td>&quot;Doe^Peter&quot;</td><td>&quot;98890234&quot;</td><td>&quot;2&quot;</td><td>&quot;20030505&quot;</td><td>&quot;MR&quot;</td><td>&quot;Brain-MRA&quot;</td><td>&quot;M&quot;</td><td>&quot;045Y&quot;</td><td>81.6327</td><td>[0.414374, 0.910111, … -1.0]</td><td>&quot;dicom_example/98892003/MR700/4…</td><td>&quot;/home/buzgalbraith/workspace/d…</td></tr><tr><td>&quot;Doe^Peter&quot;</td><td>&quot;98890234&quot;</td><td>&quot;2&quot;</td><td>&quot;20030505&quot;</td><td>&quot;MR&quot;</td><td>&quot;Brain-MRA&quot;</td><td>&quot;M&quot;</td><td>&quot;045Y&quot;</td><td>81.6327</td><td>[0.840635, 0.54161, … -1.0]</td><td>&quot;dicom_example/98892003/MR700/4…</td><td>&quot;/home/buzgalbraith/workspace/d…</td></tr></tbody></table></div>"
      ],
      "text/plain": [
       "shape: (5, 12)\n",
       "┌───────────┬───────────┬───────────┬───────────┬───┬───────────┬───────────┬───────────┬──────────┐\n",
       "│ PatientNa ┆ PatientID ┆ Accession ┆ StudyDate ┆ … ┆ PatientWe ┆ ImageOrie ┆ relative_ ┆ absolute │\n",
       "│ me        ┆ ---       ┆ Number    ┆ ---       ┆   ┆ ight      ┆ ntationPa ┆ path      ┆ _dir     │\n",
       "│ ---       ┆ str       ┆ ---       ┆ str       ┆   ┆ ---       ┆ tient     ┆ ---       ┆ ---      │\n",
       "│ str       ┆           ┆ str       ┆           ┆   ┆ f64       ┆ ---       ┆ str       ┆ str      │\n",
       "│           ┆           ┆           ┆           ┆   ┆           ┆ list[f64] ┆           ┆          │\n",
       "╞═══════════╪═══════════╪═══════════╪═══════════╪═══╪═══════════╪═══════════╪═══════════╪══════════╡\n",
       "│ Doe^Peter ┆ 98890234  ┆ 134       ┆ 20030505  ┆ … ┆ 81.6327   ┆ [0.0,     ┆ dicom_exa ┆ /home/bu │\n",
       "│           ┆           ┆           ┆           ┆   ┆           ┆ 1.0, …    ┆ mple/9889 ┆ zgalbrai │\n",
       "│           ┆           ┆           ┆           ┆   ┆           ┆ -1.0]     ┆ 2003/MR1/ ┆ th/works │\n",
       "│           ┆           ┆           ┆           ┆   ┆           ┆           ┆ 491…      ┆ pace/d…  │\n",
       "│ Doe^Peter ┆ 98890234  ┆ 428       ┆ 20030505  ┆ … ┆ 81.6327   ┆ [0.0,     ┆ dicom_exa ┆ /home/bu │\n",
       "│           ┆           ┆           ┆           ┆   ┆           ┆ 1.0, …    ┆ mple/9889 ┆ zgalbrai │\n",
       "│           ┆           ┆           ┆           ┆   ┆           ┆ -1.0]     ┆ 2003/MR1/ ┆ th/works │\n",
       "│           ┆           ┆           ┆           ┆   ┆           ┆           ┆ 158…      ┆ pace/d…  │\n",
       "│ Doe^Peter ┆ 98890234  ┆ 2         ┆ 20030505  ┆ … ┆ 81.6327   ┆ [0.0,     ┆ dicom_exa ┆ /home/bu │\n",
       "│           ┆           ┆           ┆           ┆   ┆           ┆ 1.0, …    ┆ mple/9889 ┆ zgalbrai │\n",
       "│           ┆           ┆           ┆           ┆   ┆           ┆ -1.0]     ┆ 2003/MR1/ ┆ th/works │\n",
       "│           ┆           ┆           ┆           ┆   ┆           ┆           ┆ 564…      ┆ pace/d…  │\n",
       "│ Doe^Peter ┆ 98890234  ┆ 2         ┆ 20030505  ┆ … ┆ 81.6327   ┆ [0.414374 ┆ dicom_exa ┆ /home/bu │\n",
       "│           ┆           ┆           ┆           ┆   ┆           ┆ ,         ┆ mple/9889 ┆ zgalbrai │\n",
       "│           ┆           ┆           ┆           ┆   ┆           ┆ 0.910111, ┆ 2003/MR70 ┆ th/works │\n",
       "│           ┆           ┆           ┆           ┆   ┆           ┆ … -1.0]   ┆ 0/4…      ┆ pace/d…  │\n",
       "│ Doe^Peter ┆ 98890234  ┆ 2         ┆ 20030505  ┆ … ┆ 81.6327   ┆ [0.840635 ┆ dicom_exa ┆ /home/bu │\n",
       "│           ┆           ┆           ┆           ┆   ┆           ┆ ,         ┆ mple/9889 ┆ zgalbrai │\n",
       "│           ┆           ┆           ┆           ┆   ┆           ┆ 0.54161,  ┆ 2003/MR70 ┆ th/works │\n",
       "│           ┆           ┆           ┆           ┆   ┆           ┆ … -1.0]   ┆ 0/4…      ┆ pace/d…  │\n",
       "└───────────┴───────────┴───────────┴───────────┴───┴───────────┴───────────┴───────────┴──────────┘"
      ]
     },
     "execution_count": 15,
     "metadata": {},
     "output_type": "execute_result"
    }
   ],
   "source": [
    "meta = meta.filter(~pl.col('Modality').eq('CR'))\n",
    "meta.head()"
   ]
  },
  {
   "cell_type": "code",
   "execution_count": 16,
   "id": "675d59fc",
   "metadata": {},
   "outputs": [
    {
     "data": {
      "text/html": [
       "<div><style>\n",
       ".dataframe > thead > tr,\n",
       ".dataframe > tbody > tr {\n",
       "  text-align: right;\n",
       "  white-space: pre-wrap;\n",
       "}\n",
       "</style>\n",
       "<small>shape: (9, 13)</small><table border=\"1\" class=\"dataframe\"><thead><tr><th>statistic</th><th>PatientName</th><th>PatientID</th><th>AccessionNumber</th><th>StudyDate</th><th>Modality</th><th>StudyDescription</th><th>PatientSex</th><th>PatientAge</th><th>PatientWeight</th><th>ImageOrientationPatient</th><th>relative_path</th><th>absolute_dir</th></tr><tr><td>str</td><td>str</td><td>str</td><td>str</td><td>str</td><td>str</td><td>str</td><td>str</td><td>str</td><td>f64</td><td>f64</td><td>str</td><td>str</td></tr></thead><tbody><tr><td>&quot;count&quot;</td><td>&quot;28&quot;</td><td>&quot;28&quot;</td><td>&quot;28&quot;</td><td>&quot;28&quot;</td><td>&quot;28&quot;</td><td>&quot;28&quot;</td><td>&quot;28&quot;</td><td>&quot;28&quot;</td><td>17.0</td><td>28.0</td><td>&quot;28&quot;</td><td>&quot;28&quot;</td></tr><tr><td>&quot;null_count&quot;</td><td>&quot;0&quot;</td><td>&quot;0&quot;</td><td>&quot;0&quot;</td><td>&quot;0&quot;</td><td>&quot;0&quot;</td><td>&quot;0&quot;</td><td>&quot;0&quot;</td><td>&quot;0&quot;</td><td>11.0</td><td>0.0</td><td>&quot;0&quot;</td><td>&quot;0&quot;</td></tr><tr><td>&quot;mean&quot;</td><td>null</td><td>null</td><td>null</td><td>null</td><td>null</td><td>null</td><td>null</td><td>null</td><td>81.6327</td><td>null</td><td>null</td><td>null</td></tr><tr><td>&quot;std&quot;</td><td>null</td><td>null</td><td>null</td><td>null</td><td>null</td><td>null</td><td>null</td><td>null</td><td>0.0</td><td>null</td><td>null</td><td>null</td></tr><tr><td>&quot;min&quot;</td><td>&quot;Doe^Archibald&quot;</td><td>&quot;77654033&quot;</td><td>&quot;134&quot;</td><td>&quot;19950903&quot;</td><td>&quot;CT&quot;</td><td>&quot;&quot;</td><td>&quot;&quot;</td><td>&quot;042Y&quot;</td><td>81.6327</td><td>null</td><td>&quot;dicom_example/77654033/CT2/171…</td><td>&quot;/home/buzgalbraith/workspace/d…</td></tr><tr><td>&quot;25%&quot;</td><td>null</td><td>null</td><td>null</td><td>null</td><td>null</td><td>null</td><td>null</td><td>null</td><td>81.6327</td><td>null</td><td>null</td><td>null</td></tr><tr><td>&quot;50%&quot;</td><td>null</td><td>null</td><td>null</td><td>null</td><td>null</td><td>null</td><td>null</td><td>null</td><td>81.6327</td><td>null</td><td>null</td><td>null</td></tr><tr><td>&quot;75%&quot;</td><td>null</td><td>null</td><td>null</td><td>null</td><td>null</td><td>null</td><td>null</td><td>null</td><td>81.6327</td><td>null</td><td>null</td><td>null</td></tr><tr><td>&quot;max&quot;</td><td>&quot;Doe^Peter&quot;</td><td>&quot;98890234&quot;</td><td>&quot;428&quot;</td><td>&quot;20030505&quot;</td><td>&quot;MR&quot;</td><td>&quot;Carotids&quot;</td><td>&quot;M&quot;</td><td>&quot;045Y&quot;</td><td>81.6327</td><td>null</td><td>&quot;dicom_example/98892003/MR700/4…</td><td>&quot;/home/buzgalbraith/workspace/d…</td></tr></tbody></table></div>"
      ],
      "text/plain": [
       "shape: (9, 13)\n",
       "┌───────────┬───────────┬───────────┬───────────┬───┬───────────┬───────────┬───────────┬──────────┐\n",
       "│ statistic ┆ PatientNa ┆ PatientID ┆ Accession ┆ … ┆ PatientWe ┆ ImageOrie ┆ relative_ ┆ absolute │\n",
       "│ ---       ┆ me        ┆ ---       ┆ Number    ┆   ┆ ight      ┆ ntationPa ┆ path      ┆ _dir     │\n",
       "│ str       ┆ ---       ┆ str       ┆ ---       ┆   ┆ ---       ┆ tient     ┆ ---       ┆ ---      │\n",
       "│           ┆ str       ┆           ┆ str       ┆   ┆ f64       ┆ ---       ┆ str       ┆ str      │\n",
       "│           ┆           ┆           ┆           ┆   ┆           ┆ f64       ┆           ┆          │\n",
       "╞═══════════╪═══════════╪═══════════╪═══════════╪═══╪═══════════╪═══════════╪═══════════╪══════════╡\n",
       "│ count     ┆ 28        ┆ 28        ┆ 28        ┆ … ┆ 17.0      ┆ 28.0      ┆ 28        ┆ 28       │\n",
       "│ null_coun ┆ 0         ┆ 0         ┆ 0         ┆ … ┆ 11.0      ┆ 0.0       ┆ 0         ┆ 0        │\n",
       "│ t         ┆           ┆           ┆           ┆   ┆           ┆           ┆           ┆          │\n",
       "│ mean      ┆ null      ┆ null      ┆ null      ┆ … ┆ 81.6327   ┆ null      ┆ null      ┆ null     │\n",
       "│ std       ┆ null      ┆ null      ┆ null      ┆ … ┆ 0.0       ┆ null      ┆ null      ┆ null     │\n",
       "│ min       ┆ Doe^Archi ┆ 77654033  ┆ 134       ┆ … ┆ 81.6327   ┆ null      ┆ dicom_exa ┆ /home/bu │\n",
       "│           ┆ bald      ┆           ┆           ┆   ┆           ┆           ┆ mple/7765 ┆ zgalbrai │\n",
       "│           ┆           ┆           ┆           ┆   ┆           ┆           ┆ 4033/CT2/ ┆ th/works │\n",
       "│           ┆           ┆           ┆           ┆   ┆           ┆           ┆ 171…      ┆ pace/d…  │\n",
       "│ 25%       ┆ null      ┆ null      ┆ null      ┆ … ┆ 81.6327   ┆ null      ┆ null      ┆ null     │\n",
       "│ 50%       ┆ null      ┆ null      ┆ null      ┆ … ┆ 81.6327   ┆ null      ┆ null      ┆ null     │\n",
       "│ 75%       ┆ null      ┆ null      ┆ null      ┆ … ┆ 81.6327   ┆ null      ┆ null      ┆ null     │\n",
       "│ max       ┆ Doe^Peter ┆ 98890234  ┆ 428       ┆ … ┆ 81.6327   ┆ null      ┆ dicom_exa ┆ /home/bu │\n",
       "│           ┆           ┆           ┆           ┆   ┆           ┆           ┆ mple/9889 ┆ zgalbrai │\n",
       "│           ┆           ┆           ┆           ┆   ┆           ┆           ┆ 2003/MR70 ┆ th/works │\n",
       "│           ┆           ┆           ┆           ┆   ┆           ┆           ┆ 0/4…      ┆ pace/d…  │\n",
       "└───────────┴───────────┴───────────┴───────────┴───┴───────────┴───────────┴───────────┴──────────┘"
      ]
     },
     "execution_count": 16,
     "metadata": {},
     "output_type": "execute_result"
    }
   ],
   "source": [
    "meta.describe()"
   ]
  },
  {
   "cell_type": "code",
   "execution_count": 17,
   "id": "9a21e00f",
   "metadata": {},
   "outputs": [
    {
     "name": "stdout",
     "output_type": "stream",
     "text": [
      "shape: (2, 2)\n",
      "┌──────────┬─────┐\n",
      "│ Modality ┆ len │\n",
      "│ ---      ┆ --- │\n",
      "│ str      ┆ u32 │\n",
      "╞══════════╪═════╡\n",
      "│ CT       ┆ 11  │\n",
      "│ MR       ┆ 17  │\n",
      "└──────────┴─────┘\n",
      "shape: (2, 2)\n",
      "┌───────────────┬─────┐\n",
      "│ PatientName   ┆ len │\n",
      "│ ---           ┆ --- │\n",
      "│ str           ┆ u32 │\n",
      "╞═══════════════╪═════╡\n",
      "│ Doe^Archibald ┆ 4   │\n",
      "│ Doe^Peter     ┆ 24  │\n",
      "└───────────────┴─────┘\n",
      "shape: (5, 2)\n",
      "┌────────────────────────────┬─────┐\n",
      "│ StudyDescription           ┆ len │\n",
      "│ ---                        ┆ --- │\n",
      "│ str                        ┆ u32 │\n",
      "╞════════════════════════════╪═════╡\n",
      "│                            ┆ 7   │\n",
      "│ Brain-MRA                  ┆ 11  │\n",
      "│ Carotids                   ┆ 2   │\n",
      "│ Brain                      ┆ 4   │\n",
      "│ CT, HEAD/BRAIN WO CONTRAST ┆ 4   │\n",
      "└────────────────────────────┴─────┘\n"
     ]
    }
   ],
   "source": [
    "print(meta.group_by(\"Modality\").len())\n",
    "print(meta.group_by(\"PatientName\").len())\n",
    "print(meta.group_by(\"StudyDescription\").len())"
   ]
  },
  {
   "cell_type": "markdown",
   "id": "5c6cc50c",
   "metadata": {},
   "source": [
    "## Case Study: Processing Iteration Three\n",
    "### Lets filter our dataset for just axial scans"
   ]
  },
  {
   "cell_type": "code",
   "execution_count": 18,
   "id": "2f5e368f",
   "metadata": {},
   "outputs": [
    {
     "data": {
      "text/html": [
       "<div><style>\n",
       ".dataframe > thead > tr,\n",
       ".dataframe > tbody > tr {\n",
       "  text-align: right;\n",
       "  white-space: pre-wrap;\n",
       "}\n",
       "</style>\n",
       "<small>shape: (11, 13)</small><table border=\"1\" class=\"dataframe\"><thead><tr><th>PatientName</th><th>PatientID</th><th>AccessionNumber</th><th>StudyDate</th><th>Modality</th><th>StudyDescription</th><th>PatientSex</th><th>PatientAge</th><th>PatientWeight</th><th>ImageOrientationPatient</th><th>relative_path</th><th>absolute_dir</th><th>axial</th></tr><tr><td>str</td><td>str</td><td>str</td><td>str</td><td>str</td><td>str</td><td>str</td><td>str</td><td>f64</td><td>list[f64]</td><td>str</td><td>str</td><td>bool</td></tr></thead><tbody><tr><td>&quot;Doe^Peter&quot;</td><td>&quot;98890234&quot;</td><td>&quot;134&quot;</td><td>&quot;20030505&quot;</td><td>&quot;MR&quot;</td><td>&quot;Brain&quot;</td><td>&quot;M&quot;</td><td>&quot;045Y&quot;</td><td>81.6327</td><td>[1.0, -0.0, … 0.0]</td><td>&quot;dicom_example/98892003/MR2/498…</td><td>&quot;/home/buzgalbraith/workspace/d…</td><td>true</td></tr><tr><td>&quot;Doe^Peter&quot;</td><td>&quot;98890234&quot;</td><td>&quot;2&quot;</td><td>&quot;20030505&quot;</td><td>&quot;MR&quot;</td><td>&quot;Brain-MRA&quot;</td><td>&quot;M&quot;</td><td>&quot;045Y&quot;</td><td>81.6327</td><td>[1.0, -0.0, … 0.0]</td><td>&quot;dicom_example/98892003/MR2/627…</td><td>&quot;/home/buzgalbraith/workspace/d…</td><td>true</td></tr><tr><td>&quot;Doe^Peter&quot;</td><td>&quot;98890234&quot;</td><td>&quot;2&quot;</td><td>&quot;20010101&quot;</td><td>&quot;CT&quot;</td><td>&quot;&quot;</td><td>&quot;M&quot;</td><td>&quot;043Y&quot;</td><td>null</td><td>[1.0, 0.0, … 0.0]</td><td>&quot;dicom_example/98892001/CT5N/26…</td><td>&quot;/home/buzgalbraith/workspace/d…</td><td>true</td></tr><tr><td>&quot;Doe^Peter&quot;</td><td>&quot;98890234&quot;</td><td>&quot;2&quot;</td><td>&quot;20010101&quot;</td><td>&quot;CT&quot;</td><td>&quot;&quot;</td><td>&quot;M&quot;</td><td>&quot;043Y&quot;</td><td>null</td><td>[1.0, 0.0, … 0.0]</td><td>&quot;dicom_example/98892001/CT5N/30…</td><td>&quot;/home/buzgalbraith/workspace/d…</td><td>true</td></tr><tr><td>&quot;Doe^Peter&quot;</td><td>&quot;98890234&quot;</td><td>&quot;2&quot;</td><td>&quot;20010101&quot;</td><td>&quot;CT&quot;</td><td>&quot;&quot;</td><td>&quot;M&quot;</td><td>&quot;043Y&quot;</td><td>null</td><td>[1.0, 0.0, … 0.0]</td><td>&quot;dicom_example/98892001/CT5N/33…</td><td>&quot;/home/buzgalbraith/workspace/d…</td><td>true</td></tr><tr><td>&hellip;</td><td>&hellip;</td><td>&hellip;</td><td>&hellip;</td><td>&hellip;</td><td>&hellip;</td><td>&hellip;</td><td>&hellip;</td><td>&hellip;</td><td>&hellip;</td><td>&hellip;</td><td>&hellip;</td><td>&hellip;</td></tr><tr><td>&quot;Doe^Peter&quot;</td><td>&quot;98890234&quot;</td><td>&quot;2&quot;</td><td>&quot;20010101&quot;</td><td>&quot;CT&quot;</td><td>&quot;&quot;</td><td>&quot;M&quot;</td><td>&quot;043Y&quot;</td><td>null</td><td>[1.0, 0.0, … 0.0]</td><td>&quot;dicom_example/98892001/CT5N/23…</td><td>&quot;/home/buzgalbraith/workspace/d…</td><td>true</td></tr><tr><td>&quot;Doe^Archibald&quot;</td><td>&quot;77654033&quot;</td><td>&quot;2&quot;</td><td>&quot;19950903&quot;</td><td>&quot;CT&quot;</td><td>&quot;CT, HEAD/BRAIN WO CONTRAST&quot;</td><td>&quot;&quot;</td><td>&quot;042Y&quot;</td><td>null</td><td>[1.0, 0.0, … 0.0]</td><td>&quot;dicom_example/77654033/CT2/171…</td><td>&quot;/home/buzgalbraith/workspace/d…</td><td>true</td></tr><tr><td>&quot;Doe^Archibald&quot;</td><td>&quot;77654033&quot;</td><td>&quot;2&quot;</td><td>&quot;19950903&quot;</td><td>&quot;CT&quot;</td><td>&quot;CT, HEAD/BRAIN WO CONTRAST&quot;</td><td>&quot;&quot;</td><td>&quot;042Y&quot;</td><td>null</td><td>[1.0, 0.0, … 0.0]</td><td>&quot;dicom_example/77654033/CT2/171…</td><td>&quot;/home/buzgalbraith/workspace/d…</td><td>true</td></tr><tr><td>&quot;Doe^Archibald&quot;</td><td>&quot;77654033&quot;</td><td>&quot;2&quot;</td><td>&quot;19950903&quot;</td><td>&quot;CT&quot;</td><td>&quot;CT, HEAD/BRAIN WO CONTRAST&quot;</td><td>&quot;&quot;</td><td>&quot;042Y&quot;</td><td>null</td><td>[1.0, 0.0, … 0.0]</td><td>&quot;dicom_example/77654033/CT2/171…</td><td>&quot;/home/buzgalbraith/workspace/d…</td><td>true</td></tr><tr><td>&quot;Doe^Archibald&quot;</td><td>&quot;77654033&quot;</td><td>&quot;2&quot;</td><td>&quot;19950903&quot;</td><td>&quot;CT&quot;</td><td>&quot;CT, HEAD/BRAIN WO CONTRAST&quot;</td><td>&quot;&quot;</td><td>&quot;042Y&quot;</td><td>null</td><td>[1.0, 0.0, … 0.0]</td><td>&quot;dicom_example/77654033/CT2/171…</td><td>&quot;/home/buzgalbraith/workspace/d…</td><td>true</td></tr></tbody></table></div>"
      ],
      "text/plain": [
       "shape: (11, 13)\n",
       "┌────────────┬───────────┬────────────┬───────────┬───┬────────────┬───────────┬───────────┬───────┐\n",
       "│ PatientNam ┆ PatientID ┆ AccessionN ┆ StudyDate ┆ … ┆ ImageOrien ┆ relative_ ┆ absolute_ ┆ axial │\n",
       "│ e          ┆ ---       ┆ umber      ┆ ---       ┆   ┆ tationPati ┆ path      ┆ dir       ┆ ---   │\n",
       "│ ---        ┆ str       ┆ ---        ┆ str       ┆   ┆ ent        ┆ ---       ┆ ---       ┆ bool  │\n",
       "│ str        ┆           ┆ str        ┆           ┆   ┆ ---        ┆ str       ┆ str       ┆       │\n",
       "│            ┆           ┆            ┆           ┆   ┆ list[f64]  ┆           ┆           ┆       │\n",
       "╞════════════╪═══════════╪════════════╪═══════════╪═══╪════════════╪═══════════╪═══════════╪═══════╡\n",
       "│ Doe^Peter  ┆ 98890234  ┆ 134        ┆ 20030505  ┆ … ┆ [1.0,      ┆ dicom_exa ┆ /home/buz ┆ true  │\n",
       "│            ┆           ┆            ┆           ┆   ┆ -0.0, …    ┆ mple/9889 ┆ galbraith ┆       │\n",
       "│            ┆           ┆            ┆           ┆   ┆ 0.0]       ┆ 2003/MR2/ ┆ /workspac ┆       │\n",
       "│            ┆           ┆            ┆           ┆   ┆            ┆ 498…      ┆ e/d…      ┆       │\n",
       "│ Doe^Peter  ┆ 98890234  ┆ 2          ┆ 20030505  ┆ … ┆ [1.0,      ┆ dicom_exa ┆ /home/buz ┆ true  │\n",
       "│            ┆           ┆            ┆           ┆   ┆ -0.0, …    ┆ mple/9889 ┆ galbraith ┆       │\n",
       "│            ┆           ┆            ┆           ┆   ┆ 0.0]       ┆ 2003/MR2/ ┆ /workspac ┆       │\n",
       "│            ┆           ┆            ┆           ┆   ┆            ┆ 627…      ┆ e/d…      ┆       │\n",
       "│ Doe^Peter  ┆ 98890234  ┆ 2          ┆ 20010101  ┆ … ┆ [1.0, 0.0, ┆ dicom_exa ┆ /home/buz ┆ true  │\n",
       "│            ┆           ┆            ┆           ┆   ┆ … 0.0]     ┆ mple/9889 ┆ galbraith ┆       │\n",
       "│            ┆           ┆            ┆           ┆   ┆            ┆ 2001/CT5N ┆ /workspac ┆       │\n",
       "│            ┆           ┆            ┆           ┆   ┆            ┆ /26…      ┆ e/d…      ┆       │\n",
       "│ Doe^Peter  ┆ 98890234  ┆ 2          ┆ 20010101  ┆ … ┆ [1.0, 0.0, ┆ dicom_exa ┆ /home/buz ┆ true  │\n",
       "│            ┆           ┆            ┆           ┆   ┆ … 0.0]     ┆ mple/9889 ┆ galbraith ┆       │\n",
       "│            ┆           ┆            ┆           ┆   ┆            ┆ 2001/CT5N ┆ /workspac ┆       │\n",
       "│            ┆           ┆            ┆           ┆   ┆            ┆ /30…      ┆ e/d…      ┆       │\n",
       "│ Doe^Peter  ┆ 98890234  ┆ 2          ┆ 20010101  ┆ … ┆ [1.0, 0.0, ┆ dicom_exa ┆ /home/buz ┆ true  │\n",
       "│            ┆           ┆            ┆           ┆   ┆ … 0.0]     ┆ mple/9889 ┆ galbraith ┆       │\n",
       "│            ┆           ┆            ┆           ┆   ┆            ┆ 2001/CT5N ┆ /workspac ┆       │\n",
       "│            ┆           ┆            ┆           ┆   ┆            ┆ /33…      ┆ e/d…      ┆       │\n",
       "│ …          ┆ …         ┆ …          ┆ …         ┆ … ┆ …          ┆ …         ┆ …         ┆ …     │\n",
       "│ Doe^Peter  ┆ 98890234  ┆ 2          ┆ 20010101  ┆ … ┆ [1.0, 0.0, ┆ dicom_exa ┆ /home/buz ┆ true  │\n",
       "│            ┆           ┆            ┆           ┆   ┆ … 0.0]     ┆ mple/9889 ┆ galbraith ┆       │\n",
       "│            ┆           ┆            ┆           ┆   ┆            ┆ 2001/CT5N ┆ /workspac ┆       │\n",
       "│            ┆           ┆            ┆           ┆   ┆            ┆ /23…      ┆ e/d…      ┆       │\n",
       "│ Doe^Archib ┆ 77654033  ┆ 2          ┆ 19950903  ┆ … ┆ [1.0, 0.0, ┆ dicom_exa ┆ /home/buz ┆ true  │\n",
       "│ ald        ┆           ┆            ┆           ┆   ┆ … 0.0]     ┆ mple/7765 ┆ galbraith ┆       │\n",
       "│            ┆           ┆            ┆           ┆   ┆            ┆ 4033/CT2/ ┆ /workspac ┆       │\n",
       "│            ┆           ┆            ┆           ┆   ┆            ┆ 171…      ┆ e/d…      ┆       │\n",
       "│ Doe^Archib ┆ 77654033  ┆ 2          ┆ 19950903  ┆ … ┆ [1.0, 0.0, ┆ dicom_exa ┆ /home/buz ┆ true  │\n",
       "│ ald        ┆           ┆            ┆           ┆   ┆ … 0.0]     ┆ mple/7765 ┆ galbraith ┆       │\n",
       "│            ┆           ┆            ┆           ┆   ┆            ┆ 4033/CT2/ ┆ /workspac ┆       │\n",
       "│            ┆           ┆            ┆           ┆   ┆            ┆ 171…      ┆ e/d…      ┆       │\n",
       "│ Doe^Archib ┆ 77654033  ┆ 2          ┆ 19950903  ┆ … ┆ [1.0, 0.0, ┆ dicom_exa ┆ /home/buz ┆ true  │\n",
       "│ ald        ┆           ┆            ┆           ┆   ┆ … 0.0]     ┆ mple/7765 ┆ galbraith ┆       │\n",
       "│            ┆           ┆            ┆           ┆   ┆            ┆ 4033/CT2/ ┆ /workspac ┆       │\n",
       "│            ┆           ┆            ┆           ┆   ┆            ┆ 171…      ┆ e/d…      ┆       │\n",
       "│ Doe^Archib ┆ 77654033  ┆ 2          ┆ 19950903  ┆ … ┆ [1.0, 0.0, ┆ dicom_exa ┆ /home/buz ┆ true  │\n",
       "│ ald        ┆           ┆            ┆           ┆   ┆ … 0.0]     ┆ mple/7765 ┆ galbraith ┆       │\n",
       "│            ┆           ┆            ┆           ┆   ┆            ┆ 4033/CT2/ ┆ /workspac ┆       │\n",
       "│            ┆           ┆            ┆           ┆   ┆            ┆ 171…      ┆ e/d…      ┆       │\n",
       "└────────────┴───────────┴────────────┴───────────┴───┴────────────┴───────────┴───────────┴───────┘"
      ]
     },
     "execution_count": 18,
     "metadata": {},
     "output_type": "execute_result"
    }
   ],
   "source": [
    "reference = [1.0, 0.0, 0.0, 0.0, 1.0, 0.0] ## orientation of an axial scan \n",
    "def is_axial(vec ):\n",
    "    return np.allclose(vec, reference, atol=1e-5)\n",
    "meta = meta.with_columns(\n",
    "    axial = pl.col(\"ImageOrientationPatient\").map_elements(is_axial, return_dtype=pl.Boolean)\n",
    ")\n",
    "meta = meta.filter(pl.col('axial'))\n",
    "meta"
   ]
  },
  {
   "cell_type": "code",
   "execution_count": 19,
   "id": "e660749e",
   "metadata": {},
   "outputs": [
    {
     "name": "stdout",
     "output_type": "stream",
     "text": [
      "shape: (2, 2)\n",
      "┌──────────┬─────┐\n",
      "│ Modality ┆ len │\n",
      "│ ---      ┆ --- │\n",
      "│ str      ┆ u32 │\n",
      "╞══════════╪═════╡\n",
      "│ MR       ┆ 2   │\n",
      "│ CT       ┆ 9   │\n",
      "└──────────┴─────┘\n",
      "shape: (2, 2)\n",
      "┌───────────────┬─────┐\n",
      "│ PatientName   ┆ len │\n",
      "│ ---           ┆ --- │\n",
      "│ str           ┆ u32 │\n",
      "╞═══════════════╪═════╡\n",
      "│ Doe^Peter     ┆ 7   │\n",
      "│ Doe^Archibald ┆ 4   │\n",
      "└───────────────┴─────┘\n",
      "shape: (4, 2)\n",
      "┌────────────────────────────┬─────┐\n",
      "│ StudyDescription           ┆ len │\n",
      "│ ---                        ┆ --- │\n",
      "│ str                        ┆ u32 │\n",
      "╞════════════════════════════╪═════╡\n",
      "│ Brain-MRA                  ┆ 1   │\n",
      "│                            ┆ 5   │\n",
      "│ CT, HEAD/BRAIN WO CONTRAST ┆ 4   │\n",
      "│ Brain                      ┆ 1   │\n",
      "└────────────────────────────┴─────┘\n"
     ]
    }
   ],
   "source": [
    "print(meta.group_by(\"Modality\").len())\n",
    "print(meta.group_by(\"PatientName\").len())\n",
    "print(meta.group_by(\"StudyDescription\").len())"
   ]
  },
  {
   "cell_type": "markdown",
   "id": "9ec3329e",
   "metadata": {},
   "source": [
    "## Case Study: De-identification\n",
    "### assume we only care about de-identifying the following fields  "
   ]
  },
  {
   "cell_type": "code",
   "execution_count": 20,
   "id": "318d8025",
   "metadata": {},
   "outputs": [],
   "source": [
    "deid_fields = ['PatientName', 'PatientID', 'AccessionNumber', 'StudyDate']"
   ]
  },
  {
   "cell_type": "markdown",
   "id": "95634b15",
   "metadata": {},
   "source": [
    "### lets start out easy and just remove the patient Name values all together  "
   ]
  },
  {
   "cell_type": "code",
   "execution_count": 21,
   "id": "d9a4b5f0",
   "metadata": {},
   "outputs": [
    {
     "data": {
      "text/html": [
       "<div><style>\n",
       ".dataframe > thead > tr,\n",
       ".dataframe > tbody > tr {\n",
       "  text-align: right;\n",
       "  white-space: pre-wrap;\n",
       "}\n",
       "</style>\n",
       "<small>shape: (11, 13)</small><table border=\"1\" class=\"dataframe\"><thead><tr><th>PatientName</th><th>PatientID</th><th>AccessionNumber</th><th>StudyDate</th><th>Modality</th><th>StudyDescription</th><th>PatientSex</th><th>PatientAge</th><th>PatientWeight</th><th>ImageOrientationPatient</th><th>relative_path</th><th>absolute_dir</th><th>axial</th></tr><tr><td>str</td><td>str</td><td>str</td><td>str</td><td>str</td><td>str</td><td>str</td><td>str</td><td>f64</td><td>list[f64]</td><td>str</td><td>str</td><td>bool</td></tr></thead><tbody><tr><td>&quot;&quot;</td><td>&quot;98890234&quot;</td><td>&quot;134&quot;</td><td>&quot;20030505&quot;</td><td>&quot;MR&quot;</td><td>&quot;Brain&quot;</td><td>&quot;M&quot;</td><td>&quot;045Y&quot;</td><td>81.6327</td><td>[1.0, -0.0, … 0.0]</td><td>&quot;dicom_example/98892003/MR2/498…</td><td>&quot;/home/buzgalbraith/workspace/d…</td><td>true</td></tr><tr><td>&quot;&quot;</td><td>&quot;98890234&quot;</td><td>&quot;2&quot;</td><td>&quot;20030505&quot;</td><td>&quot;MR&quot;</td><td>&quot;Brain-MRA&quot;</td><td>&quot;M&quot;</td><td>&quot;045Y&quot;</td><td>81.6327</td><td>[1.0, -0.0, … 0.0]</td><td>&quot;dicom_example/98892003/MR2/627…</td><td>&quot;/home/buzgalbraith/workspace/d…</td><td>true</td></tr><tr><td>&quot;&quot;</td><td>&quot;98890234&quot;</td><td>&quot;2&quot;</td><td>&quot;20010101&quot;</td><td>&quot;CT&quot;</td><td>&quot;&quot;</td><td>&quot;M&quot;</td><td>&quot;043Y&quot;</td><td>null</td><td>[1.0, 0.0, … 0.0]</td><td>&quot;dicom_example/98892001/CT5N/26…</td><td>&quot;/home/buzgalbraith/workspace/d…</td><td>true</td></tr><tr><td>&quot;&quot;</td><td>&quot;98890234&quot;</td><td>&quot;2&quot;</td><td>&quot;20010101&quot;</td><td>&quot;CT&quot;</td><td>&quot;&quot;</td><td>&quot;M&quot;</td><td>&quot;043Y&quot;</td><td>null</td><td>[1.0, 0.0, … 0.0]</td><td>&quot;dicom_example/98892001/CT5N/30…</td><td>&quot;/home/buzgalbraith/workspace/d…</td><td>true</td></tr><tr><td>&quot;&quot;</td><td>&quot;98890234&quot;</td><td>&quot;2&quot;</td><td>&quot;20010101&quot;</td><td>&quot;CT&quot;</td><td>&quot;&quot;</td><td>&quot;M&quot;</td><td>&quot;043Y&quot;</td><td>null</td><td>[1.0, 0.0, … 0.0]</td><td>&quot;dicom_example/98892001/CT5N/33…</td><td>&quot;/home/buzgalbraith/workspace/d…</td><td>true</td></tr><tr><td>&hellip;</td><td>&hellip;</td><td>&hellip;</td><td>&hellip;</td><td>&hellip;</td><td>&hellip;</td><td>&hellip;</td><td>&hellip;</td><td>&hellip;</td><td>&hellip;</td><td>&hellip;</td><td>&hellip;</td><td>&hellip;</td></tr><tr><td>&quot;&quot;</td><td>&quot;98890234&quot;</td><td>&quot;2&quot;</td><td>&quot;20010101&quot;</td><td>&quot;CT&quot;</td><td>&quot;&quot;</td><td>&quot;M&quot;</td><td>&quot;043Y&quot;</td><td>null</td><td>[1.0, 0.0, … 0.0]</td><td>&quot;dicom_example/98892001/CT5N/23…</td><td>&quot;/home/buzgalbraith/workspace/d…</td><td>true</td></tr><tr><td>&quot;&quot;</td><td>&quot;77654033&quot;</td><td>&quot;2&quot;</td><td>&quot;19950903&quot;</td><td>&quot;CT&quot;</td><td>&quot;CT, HEAD/BRAIN WO CONTRAST&quot;</td><td>&quot;&quot;</td><td>&quot;042Y&quot;</td><td>null</td><td>[1.0, 0.0, … 0.0]</td><td>&quot;dicom_example/77654033/CT2/171…</td><td>&quot;/home/buzgalbraith/workspace/d…</td><td>true</td></tr><tr><td>&quot;&quot;</td><td>&quot;77654033&quot;</td><td>&quot;2&quot;</td><td>&quot;19950903&quot;</td><td>&quot;CT&quot;</td><td>&quot;CT, HEAD/BRAIN WO CONTRAST&quot;</td><td>&quot;&quot;</td><td>&quot;042Y&quot;</td><td>null</td><td>[1.0, 0.0, … 0.0]</td><td>&quot;dicom_example/77654033/CT2/171…</td><td>&quot;/home/buzgalbraith/workspace/d…</td><td>true</td></tr><tr><td>&quot;&quot;</td><td>&quot;77654033&quot;</td><td>&quot;2&quot;</td><td>&quot;19950903&quot;</td><td>&quot;CT&quot;</td><td>&quot;CT, HEAD/BRAIN WO CONTRAST&quot;</td><td>&quot;&quot;</td><td>&quot;042Y&quot;</td><td>null</td><td>[1.0, 0.0, … 0.0]</td><td>&quot;dicom_example/77654033/CT2/171…</td><td>&quot;/home/buzgalbraith/workspace/d…</td><td>true</td></tr><tr><td>&quot;&quot;</td><td>&quot;77654033&quot;</td><td>&quot;2&quot;</td><td>&quot;19950903&quot;</td><td>&quot;CT&quot;</td><td>&quot;CT, HEAD/BRAIN WO CONTRAST&quot;</td><td>&quot;&quot;</td><td>&quot;042Y&quot;</td><td>null</td><td>[1.0, 0.0, … 0.0]</td><td>&quot;dicom_example/77654033/CT2/171…</td><td>&quot;/home/buzgalbraith/workspace/d…</td><td>true</td></tr></tbody></table></div>"
      ],
      "text/plain": [
       "shape: (11, 13)\n",
       "┌────────────┬───────────┬────────────┬───────────┬───┬────────────┬───────────┬───────────┬───────┐\n",
       "│ PatientNam ┆ PatientID ┆ AccessionN ┆ StudyDate ┆ … ┆ ImageOrien ┆ relative_ ┆ absolute_ ┆ axial │\n",
       "│ e          ┆ ---       ┆ umber      ┆ ---       ┆   ┆ tationPati ┆ path      ┆ dir       ┆ ---   │\n",
       "│ ---        ┆ str       ┆ ---        ┆ str       ┆   ┆ ent        ┆ ---       ┆ ---       ┆ bool  │\n",
       "│ str        ┆           ┆ str        ┆           ┆   ┆ ---        ┆ str       ┆ str       ┆       │\n",
       "│            ┆           ┆            ┆           ┆   ┆ list[f64]  ┆           ┆           ┆       │\n",
       "╞════════════╪═══════════╪════════════╪═══════════╪═══╪════════════╪═══════════╪═══════════╪═══════╡\n",
       "│            ┆ 98890234  ┆ 134        ┆ 20030505  ┆ … ┆ [1.0,      ┆ dicom_exa ┆ /home/buz ┆ true  │\n",
       "│            ┆           ┆            ┆           ┆   ┆ -0.0, …    ┆ mple/9889 ┆ galbraith ┆       │\n",
       "│            ┆           ┆            ┆           ┆   ┆ 0.0]       ┆ 2003/MR2/ ┆ /workspac ┆       │\n",
       "│            ┆           ┆            ┆           ┆   ┆            ┆ 498…      ┆ e/d…      ┆       │\n",
       "│            ┆ 98890234  ┆ 2          ┆ 20030505  ┆ … ┆ [1.0,      ┆ dicom_exa ┆ /home/buz ┆ true  │\n",
       "│            ┆           ┆            ┆           ┆   ┆ -0.0, …    ┆ mple/9889 ┆ galbraith ┆       │\n",
       "│            ┆           ┆            ┆           ┆   ┆ 0.0]       ┆ 2003/MR2/ ┆ /workspac ┆       │\n",
       "│            ┆           ┆            ┆           ┆   ┆            ┆ 627…      ┆ e/d…      ┆       │\n",
       "│            ┆ 98890234  ┆ 2          ┆ 20010101  ┆ … ┆ [1.0, 0.0, ┆ dicom_exa ┆ /home/buz ┆ true  │\n",
       "│            ┆           ┆            ┆           ┆   ┆ … 0.0]     ┆ mple/9889 ┆ galbraith ┆       │\n",
       "│            ┆           ┆            ┆           ┆   ┆            ┆ 2001/CT5N ┆ /workspac ┆       │\n",
       "│            ┆           ┆            ┆           ┆   ┆            ┆ /26…      ┆ e/d…      ┆       │\n",
       "│            ┆ 98890234  ┆ 2          ┆ 20010101  ┆ … ┆ [1.0, 0.0, ┆ dicom_exa ┆ /home/buz ┆ true  │\n",
       "│            ┆           ┆            ┆           ┆   ┆ … 0.0]     ┆ mple/9889 ┆ galbraith ┆       │\n",
       "│            ┆           ┆            ┆           ┆   ┆            ┆ 2001/CT5N ┆ /workspac ┆       │\n",
       "│            ┆           ┆            ┆           ┆   ┆            ┆ /30…      ┆ e/d…      ┆       │\n",
       "│            ┆ 98890234  ┆ 2          ┆ 20010101  ┆ … ┆ [1.0, 0.0, ┆ dicom_exa ┆ /home/buz ┆ true  │\n",
       "│            ┆           ┆            ┆           ┆   ┆ … 0.0]     ┆ mple/9889 ┆ galbraith ┆       │\n",
       "│            ┆           ┆            ┆           ┆   ┆            ┆ 2001/CT5N ┆ /workspac ┆       │\n",
       "│            ┆           ┆            ┆           ┆   ┆            ┆ /33…      ┆ e/d…      ┆       │\n",
       "│ …          ┆ …         ┆ …          ┆ …         ┆ … ┆ …          ┆ …         ┆ …         ┆ …     │\n",
       "│            ┆ 98890234  ┆ 2          ┆ 20010101  ┆ … ┆ [1.0, 0.0, ┆ dicom_exa ┆ /home/buz ┆ true  │\n",
       "│            ┆           ┆            ┆           ┆   ┆ … 0.0]     ┆ mple/9889 ┆ galbraith ┆       │\n",
       "│            ┆           ┆            ┆           ┆   ┆            ┆ 2001/CT5N ┆ /workspac ┆       │\n",
       "│            ┆           ┆            ┆           ┆   ┆            ┆ /23…      ┆ e/d…      ┆       │\n",
       "│            ┆ 77654033  ┆ 2          ┆ 19950903  ┆ … ┆ [1.0, 0.0, ┆ dicom_exa ┆ /home/buz ┆ true  │\n",
       "│            ┆           ┆            ┆           ┆   ┆ … 0.0]     ┆ mple/7765 ┆ galbraith ┆       │\n",
       "│            ┆           ┆            ┆           ┆   ┆            ┆ 4033/CT2/ ┆ /workspac ┆       │\n",
       "│            ┆           ┆            ┆           ┆   ┆            ┆ 171…      ┆ e/d…      ┆       │\n",
       "│            ┆ 77654033  ┆ 2          ┆ 19950903  ┆ … ┆ [1.0, 0.0, ┆ dicom_exa ┆ /home/buz ┆ true  │\n",
       "│            ┆           ┆            ┆           ┆   ┆ … 0.0]     ┆ mple/7765 ┆ galbraith ┆       │\n",
       "│            ┆           ┆            ┆           ┆   ┆            ┆ 4033/CT2/ ┆ /workspac ┆       │\n",
       "│            ┆           ┆            ┆           ┆   ┆            ┆ 171…      ┆ e/d…      ┆       │\n",
       "│            ┆ 77654033  ┆ 2          ┆ 19950903  ┆ … ┆ [1.0, 0.0, ┆ dicom_exa ┆ /home/buz ┆ true  │\n",
       "│            ┆           ┆            ┆           ┆   ┆ … 0.0]     ┆ mple/7765 ┆ galbraith ┆       │\n",
       "│            ┆           ┆            ┆           ┆   ┆            ┆ 4033/CT2/ ┆ /workspac ┆       │\n",
       "│            ┆           ┆            ┆           ┆   ┆            ┆ 171…      ┆ e/d…      ┆       │\n",
       "│            ┆ 77654033  ┆ 2          ┆ 19950903  ┆ … ┆ [1.0, 0.0, ┆ dicom_exa ┆ /home/buz ┆ true  │\n",
       "│            ┆           ┆            ┆           ┆   ┆ … 0.0]     ┆ mple/7765 ┆ galbraith ┆       │\n",
       "│            ┆           ┆            ┆           ┆   ┆            ┆ 4033/CT2/ ┆ /workspac ┆       │\n",
       "│            ┆           ┆            ┆           ┆   ┆            ┆ 171…      ┆ e/d…      ┆       │\n",
       "└────────────┴───────────┴────────────┴───────────┴───┴────────────┴───────────┴───────────┴───────┘"
      ]
     },
     "execution_count": 21,
     "metadata": {},
     "output_type": "execute_result"
    }
   ],
   "source": [
    "deid_meta = copy.deepcopy(meta)\n",
    "deid_meta = deid_meta.with_columns(PatientName = pl.lit(''))\n",
    "deid_meta"
   ]
  },
  {
   "cell_type": "markdown",
   "id": "f1f0d98b",
   "metadata": {},
   "source": [
    "### Now suppose we want to have PatientIDs and AccessionNumbers\n",
    "- these are what we call cross walk tables. "
   ]
  },
  {
   "cell_type": "code",
   "execution_count": 22,
   "id": "20c9cb31",
   "metadata": {},
   "outputs": [
    {
     "data": {
      "text/html": [
       "<div><style>\n",
       ".dataframe > thead > tr,\n",
       ".dataframe > tbody > tr {\n",
       "  text-align: right;\n",
       "  white-space: pre-wrap;\n",
       "}\n",
       "</style>\n",
       "<small>shape: (2, 3)</small><table border=\"1\" class=\"dataframe\"><thead><tr><th>index</th><th>PatientID</th><th>deid_PatientID</th></tr><tr><td>u32</td><td>str</td><td>str</td></tr></thead><tbody><tr><td>1</td><td>&quot;77654033&quot;</td><td>&quot;PID00001&quot;</td></tr><tr><td>2</td><td>&quot;98890234&quot;</td><td>&quot;PID00002&quot;</td></tr></tbody></table></div>"
      ],
      "text/plain": [
       "shape: (2, 3)\n",
       "┌───────┬───────────┬────────────────┐\n",
       "│ index ┆ PatientID ┆ deid_PatientID │\n",
       "│ ---   ┆ ---       ┆ ---            │\n",
       "│ u32   ┆ str       ┆ str            │\n",
       "╞═══════╪═══════════╪════════════════╡\n",
       "│ 1     ┆ 77654033  ┆ PID00001       │\n",
       "│ 2     ┆ 98890234  ┆ PID00002       │\n",
       "└───────┴───────────┴────────────────┘"
      ]
     },
     "execution_count": 22,
     "metadata": {},
     "output_type": "execute_result"
    }
   ],
   "source": [
    "pids = deid_meta.select(pl.col('PatientID').unique()).with_row_index(offset=1)\n",
    "pids = pids.with_columns(\n",
    "    deid_PatientID = pl.lit('PID') + pl.col(('index')).cast(pl.String).str.zfill(5)\n",
    ")\n",
    "pids.head()"
   ]
  },
  {
   "cell_type": "code",
   "execution_count": 23,
   "id": "e099c030",
   "metadata": {},
   "outputs": [
    {
     "data": {
      "text/html": [
       "<div><style>\n",
       ".dataframe > thead > tr,\n",
       ".dataframe > tbody > tr {\n",
       "  text-align: right;\n",
       "  white-space: pre-wrap;\n",
       "}\n",
       "</style>\n",
       "<small>shape: (2, 3)</small><table border=\"1\" class=\"dataframe\"><thead><tr><th>index</th><th>AccessionNumber</th><th>deid_AccessionNumber</th></tr><tr><td>u32</td><td>str</td><td>str</td></tr></thead><tbody><tr><td>1</td><td>&quot;134&quot;</td><td>&quot;ACCN00001&quot;</td></tr><tr><td>2</td><td>&quot;2&quot;</td><td>&quot;ACCN00002&quot;</td></tr></tbody></table></div>"
      ],
      "text/plain": [
       "shape: (2, 3)\n",
       "┌───────┬─────────────────┬──────────────────────┐\n",
       "│ index ┆ AccessionNumber ┆ deid_AccessionNumber │\n",
       "│ ---   ┆ ---             ┆ ---                  │\n",
       "│ u32   ┆ str             ┆ str                  │\n",
       "╞═══════╪═════════════════╪══════════════════════╡\n",
       "│ 1     ┆ 134             ┆ ACCN00001            │\n",
       "│ 2     ┆ 2               ┆ ACCN00002            │\n",
       "└───────┴─────────────────┴──────────────────────┘"
      ]
     },
     "execution_count": 23,
     "metadata": {},
     "output_type": "execute_result"
    }
   ],
   "source": [
    "accns = deid_meta.select(pl.col('AccessionNumber').unique()).with_row_index(offset=1)\n",
    "accns = accns.with_columns(\n",
    "    deid_AccessionNumber = pl.lit('ACCN') + pl.col(('index')).cast(pl.String).str.zfill(5)\n",
    ")\n",
    "accns.head()"
   ]
  },
  {
   "cell_type": "markdown",
   "id": "19b27417",
   "metadata": {},
   "source": [
    "### now finally suppose we want to shift the StudyDate field by some random amount\n",
    "\n",
    "- we want to shift the dates of each patient by some random amount, while keeping the relative dates within a patient the same,   "
   ]
  },
  {
   "cell_type": "code",
   "execution_count": 24,
   "id": "dc35dbe5",
   "metadata": {},
   "outputs": [],
   "source": [
    "\n",
    "date_format = \"%Y%m%d\"\n",
    "study_dates = deid_meta.group_by(['PatientID']).first().select(['PatientID', 'StudyDate'])\n",
    "rng = np.random.default_rng(12345)\n",
    "## generate date shifts quantities\n",
    "dates_shift_amounts = rng.integers(low=-100, high=100, size = len(study_dates))\n",
    "study_dates = study_dates.with_columns(\n",
    "    number_of_days_shifted = dates_shift_amounts\n",
    ")\n",
    "## format and output the proper dates\n",
    "study_dates = study_dates.with_columns(\n",
    "    formatted_date = pl.col('StudyDate').str.to_datetime(format=date_format), \n",
    "    shift_delta = pl.col('number_of_days_shifted').map_elements(datetime.timedelta, return_dtype=pl.datatypes.Duration)\n",
    ").with_columns(\n",
    "    died_StudyDate = (pl.col('formatted_date') + pl.col('shift_delta')).dt.to_string(format=date_format)\n",
    ")\n",
    "# ## select only needed columns \n",
    "study_dates = study_dates.select(\n",
    "    [\n",
    "        'PatientID', \n",
    "        'StudyDate', \n",
    "        'died_StudyDate'\n",
    "    ]\n",
    ")\n"
   ]
  },
  {
   "cell_type": "markdown",
   "id": "51594fdb",
   "metadata": {},
   "source": [
    "### ok lets now write those three tables out to files, so we can re-identify the data later if need be. "
   ]
  },
  {
   "cell_type": "code",
   "execution_count": 25,
   "id": "3a399f35",
   "metadata": {},
   "outputs": [],
   "source": [
    "pids.write_csv(os.path.join(os.environ[\"PROCESSED_DATA_DIR\"],'cohort', 'PatientIDCrossWalk.csv'))\n",
    "accns.write_csv(os.path.join(os.environ[\"PROCESSED_DATA_DIR\"], 'cohort','AccessionNumberCrossWalk.csv'))\n",
    "study_dates.write_csv(os.path.join(os.environ[\"PROCESSED_DATA_DIR\"], 'cohort','StudyDateShift.csv'))"
   ]
  },
  {
   "cell_type": "markdown",
   "id": "9fa5f8e5",
   "metadata": {},
   "source": [
    "### Finally lets de-identify our files and save the results to a new folder \n",
    "- first lets create new paths to save the de-id dataset"
   ]
  },
  {
   "cell_type": "code",
   "execution_count": 26,
   "id": "d2af08a5",
   "metadata": {},
   "outputs": [],
   "source": [
    "deid_dir = os.path.join(os.environ[\"PROCESSED_DATA_DIR\"], 'de-identified-data')\n",
    "os.makedirs(deid_dir, exist_ok=True)\n",
    "deid_meta = deid_meta.with_columns(\n",
    "    deid_path = deid_dir + pl.col('relative_path').str.strip_prefix('dicom_example')\n",
    ")\n"
   ]
  },
  {
   "cell_type": "markdown",
   "id": "a435cd55",
   "metadata": {},
   "source": [
    "- next lets merge our cross walk tables with our dataset"
   ]
  },
  {
   "cell_type": "code",
   "execution_count": 27,
   "id": "729e3d44",
   "metadata": {},
   "outputs": [],
   "source": [
    "deid_meta = deid_meta.join(\n",
    "    pids.drop('index'), on='PatientID'\n",
    "    ).join(\n",
    "        accns.drop('index'), on='AccessionNumber'\n",
    "    ).join(\n",
    "        study_dates.drop('StudyDate'), on='PatientID'\n",
    "    )\n"
   ]
  },
  {
   "cell_type": "markdown",
   "id": "a47bf791",
   "metadata": {},
   "source": [
    "- Finally lets write the de-identified dataset and extracted images to the desired locations"
   ]
  },
  {
   "cell_type": "code",
   "execution_count": null,
   "id": "402b1763",
   "metadata": {},
   "outputs": [],
   "source": [
    "def deid_dicom(row):\n",
    "    \"\"\"reads in a DICOM file and write the de-identified DICOM file and corresponding image to a specified location \"\"\"\n",
    "    header = pydicom.dcmread(row['absolute_dir'])\n",
    "    header['PatientName'].value = row['PatientName']\n",
    "    header['PatientID'].value = row['deid_PatientID']\n",
    "    header['AccessionNumber'].value = row['deid_AccessionNumber']\n",
    "    header['StudyDate'].value = row['died_StudyDate']\n",
    "    pth = row['deid_path']\n",
    "    os.makedirs(os.path.dirname(pth), exist_ok=True)\n",
    "    pydicom.dcmwrite(pth, header)\n",
    "    pixel_array = pydicom.pixels.pixel_array(header, decoding_plugin='pillow')\n",
    "    plt.imsave(f'{pth}.png', pixel_array, cmap='gray')\n",
    "\n",
    "for row in deid_meta.iter_rows(named=True):\n",
    "    deid_dicom(row)"
   ]
  },
  {
   "cell_type": "markdown",
   "id": "cc4eb0eb",
   "metadata": {},
   "source": [
    "## Finally lets look at one result"
   ]
  },
  {
   "cell_type": "code",
   "execution_count": 31,
   "id": "11eed278",
   "metadata": {},
   "outputs": [
    {
     "data": {
      "text/plain": [
       "Dataset.file_meta -------------------------------\n",
       "(0002,0000) File Meta Information Group Length  UL: 192\n",
       "(0002,0001) File Meta Information Version       OB: b'\\x00\\x01'\n",
       "(0002,0002) Media Storage SOP Class UID         UI: CT Image Storage\n",
       "(0002,0003) Media Storage SOP Instance UID      UI: 1.3.6.1.4.1.5962.1.1.0.0.0.1196530851.28319.0.93\n",
       "(0002,0010) Transfer Syntax UID                 UI: Explicit VR Little Endian\n",
       "(0002,0012) Implementation Class UID            UI: 1.3.6.1.4.1.5962.2\n",
       "(0002,0013) Implementation Version Name         SH: 'DCTOOL100'\n",
       "(0002,0016) Source Application Entity Title     AE: 'CLUNIE1'\n",
       "-------------------------------------------------\n",
       "(0008,0005) Specific Character Set              CS: 'ISO_IR 100'\n",
       "(0008,0008) Image Type                          CS: ['ORIGINAL', 'PRIMARY', 'AXIAL']\n",
       "(0008,0012) Instance Creation Date              DA: '19950903'\n",
       "(0008,0013) Instance Creation Time              TM: '173353'\n",
       "(0008,0014) Instance Creator UID                UI: 1.3.6.1.4.1.5962.3\n",
       "(0008,0016) SOP Class UID                       UI: CT Image Storage\n",
       "(0008,0018) SOP Instance UID                    UI: 1.3.6.1.4.1.5962.1.1.0.0.0.1196530851.28319.0.93\n",
       "(0008,0020) Study Date                          DA: '19951012'\n",
       "(0008,0021) Series Date                         DA: '19950903'\n",
       "(0008,0022) Acquisition Date                    DA: '19950903'\n",
       "(0008,0023) Content Date                        DA: '19950903'\n",
       "(0008,0030) Study Time                          TM: '173032'\n",
       "(0008,0031) Series Time                         TM: '173301'\n",
       "(0008,0032) Acquisition Time                    TM: '173321'\n",
       "(0008,0033) Content Time                        TM: '173353'\n",
       "(0008,0050) Accession Number                    SH: 'ACCN00002'\n",
       "(0008,0060) Modality                            CS: 'CT'\n",
       "(0008,0061) Modalities in Study                 CS: 'CT'\n",
       "(0008,0070) Manufacturer                        LO: 'GE MEDICAL SYSTEMS'\n",
       "(0008,0090) Referring Physician's Name          PN: ''\n",
       "(0008,0201) Timezone Offset From UTC            SH: '+0000'\n",
       "(0008,1030) Study Description                   LO: 'CT, HEAD/BRAIN WO CONTRAST'\n",
       "(0008,103E) Series Description                  LO: 'Routine Brain'\n",
       "(0008,1090) Manufacturer's Model Name           LO: 'LightSpeed Plus'\n",
       "(0009,0010) Private Creator                     LO: 'GEMS_IDEN_01'\n",
       "(0009,1001) [Full fidelity]                     LO: 'CT_LIGHTSPEED'\n",
       "(0009,1002) [Suite id]                          SH: 'CT01'\n",
       "(0009,1004) [Product id]                        SH: 'LightSpeed Plus'\n",
       "(0009,10E3) [Equipment UID]                     UI: ''\n",
       "(0010,0010) Patient's Name                      PN: ''\n",
       "(0010,0020) Patient ID                          LO: 'PID00001'\n",
       "(0010,0030) Patient's Birth Date                DA: ''\n",
       "(0010,0040) Patient's Sex                       CS: ''\n",
       "(0010,1010) Patient's Age                       AS: '042Y'\n",
       "(0012,0062) Patient Identity Removed            CS: 'YES'\n",
       "(0012,0063) De-identification Method            LO: ['dcanon', 'no identifiers', 'keep descriptions', 'keep manufacturer', 'keep retired', 'keep private', 'no uids', 'no pet demographics', 'keep dates', 'dcdtchg change dates']\n",
       "(0018,0015) Body Part Examined                  CS: 'HEAD'\n",
       "(0018,0022) Scan Options                        CS: 'AXIAL MODE'\n",
       "(0018,0050) Slice Thickness                     DS: '1.250000'\n",
       "(0018,0060) KVP                                 DS: '140'\n",
       "(0018,0090) Data Collection Diameter            DS: '250.000000'\n",
       "(0018,1020) Software Versions                   LO: 'LightSpeedApps14.13_2.8.2L_H2.1M4'\n",
       "(0018,1030) Protocol Name                       LO: '1.1 Routine Brain'\n",
       "(0018,1100) Reconstruction Diameter             DS: '250.000000'\n",
       "(0018,1110) Distance Source to Detector         DS: '949.075012'\n",
       "(0018,1111) Distance Source to Patient          DS: '541.000000'\n",
       "(0018,1120) Gantry/Detector Tilt                DS: '0.000000'\n",
       "(0018,1130) Table Height                        DS: '181.199997'\n",
       "(0018,1140) Rotation Direction                  CS: 'CW'\n",
       "(0018,1150) Exposure Time                       IS: '2000'\n",
       "(0018,1151) X-Ray Tube Current                  IS: '210'\n",
       "(0018,1152) Exposure                            IS: '420'\n",
       "(0018,1170) Generator Power                     IS: '29400'\n",
       "(0018,1190) Focal Spot(s)                       DS: '1.200000'\n",
       "(0018,1210) Convolution Kernel                  SH: 'STANDARD'\n",
       "(0018,5100) Patient Position                    CS: 'HFS'\n",
       "(0019,0010) Private Creator                     LO: 'GEMS_ACQU_01'\n",
       "(0019,1002) [Detector Channel]                  SL: 912\n",
       "(0019,1003) [Cell number at Theta]              DS: '389.750000'\n",
       "(0019,1004) [Cell spacing]                      DS: '1.023900'\n",
       "(0019,100F) [Horiz. Frame of ref.]              DS: '248.669998'\n",
       "(0019,1011) [Series contrast]                   SS: 0\n",
       "(0019,1018) [First scan ras]                    LO: 'I'\n",
       "(0019,101A) [Last scan ras]                     LO: 'S'\n",
       "(0019,1023) [Table Speed [mm/rotation]]         DS: '0.000000'\n",
       "(0019,1024) [Mid Scan Time [sec]]               DS: '10.000000'\n",
       "(0019,1025) [Mid scan flag]                     SS: 1\n",
       "(0019,1026) [Tube Azimuth [degree]]             SL: 358\n",
       "(0019,1027) [Rotation Speed [msec]]             DS: '2.000000'\n",
       "(0019,102C) [Number of triggers]                SL: 1976\n",
       "(0019,102E) [Angle of first view]               DS: '0.000000'\n",
       "(0019,102F) [Trigger frequency]                 DS: '984.000000'\n",
       "(0019,1039) [SFOV Type]                         SS: 2\n",
       "(0019,1042) [Segment Number]                    SS: 0\n",
       "(0019,1043) [Total Segments Required]           SS: 0\n",
       "(0019,1047) [View compression factor]           SS: 2\n",
       "(0019,1052) [Recon post proc. Flag]             SS: 1\n",
       "(0019,106A) [Dependent on #views processed]     SS: 2\n",
       "(0020,000D) Study Instance UID                  UI: 1.3.6.1.4.1.5962.1.1.0.0.0.1196530851.28319.0.1\n",
       "(0020,000E) Series Instance UID                 UI: 1.3.6.1.4.1.5962.1.1.0.0.0.1196530851.28319.0.2\n",
       "(0020,0010) Study ID                            SH: '2'\n",
       "(0020,0011) Series Number                       IS: '2'\n",
       "(0020,0012) Acquisition Number                  IS: '4'\n",
       "(0020,0013) Instance Number                     IS: '18'\n",
       "(0020,0032) Image Position (Patient)            DS: [-125.000000, -128.100006, -99.480003]\n",
       "(0020,0037) Image Orientation (Patient)         DS: [1.000000, 0.000000, 0.000000, 0.000000, 1.000000, 0.000000]\n",
       "(0020,0052) Frame of Reference UID              UI: 1.3.6.1.4.1.5962.1.1.0.0.0.1196530851.28319.0.4\n",
       "(0020,1040) Position Reference Indicator        LO: 'OM'\n",
       "(0020,1041) Slice Location                      DS: '-99.480003'\n",
       "(0021,0010) Private Creator                     LO: 'GEMS_RELA_01'\n",
       "(0021,1003) [Series from which Prescribed]      SS: 2\n",
       "(0021,1035) [Series from which prescribed]      SS: 0\n",
       "(0021,1091) [Biopsy position]                   SS: 0\n",
       "(0021,1092) [Biopsy T location]                 FL: 0.0\n",
       "(0021,1093) [Biopsy ref location]               FL: 0.0\n",
       "(0023,0010) Private Creator                     LO: 'GEMS_STDY_01'\n",
       "(0027,0010) Private Creator                     LO: 'GEMS_IMAG_01'\n",
       "(0027,1010) [Scout Type]                        SS: 0\n",
       "(0027,101C) [Vma mamp]                          SL: 0\n",
       "(0027,101E) [Vma mod]                           SL: 0\n",
       "(0027,101F) [Vma clip]                          SL: 0\n",
       "(0027,1020) [Smart scan ON/OFF flag]            SS: 0\n",
       "(0027,1035) [Plane Type]                        SS: 2\n",
       "(0027,1042) [Center R coord of plane image]     FL: 0.0\n",
       "(0027,1043) [Center A coord of plane image]     FL: 3.0999999046325684\n",
       "(0027,1044) [Center S coord of plane image]     FL: -99.4800033569336\n",
       "(0027,1045) [Normal R coord]                    FL: 0.0\n",
       "(0027,1046) [Normal A coord]                    FL: -0.0\n",
       "(0027,1047) [Normal S coord]                    FL: 1.0\n",
       "(0027,1050) [Scan Start Location]               FL: 0.0\n",
       "(0027,1051) [Scan End Location]                 FL: 0.0\n",
       "(0028,0002) Samples per Pixel                   US: 1\n",
       "(0028,0004) Photometric Interpretation          CS: 'MONOCHROME2'\n",
       "(0028,0010) Rows                                US: 16\n",
       "(0028,0011) Columns                             US: 16\n",
       "(0028,0030) Pixel Spacing                       DS: [0.488281, 0.488281]\n",
       "(0028,0100) Bits Allocated                      US: 16\n",
       "(0028,0101) Bits Stored                         US: 16\n",
       "(0028,0102) High Bit                            US: 15\n",
       "(0028,0103) Pixel Representation                US: 1\n",
       "(0028,0120) Pixel Padding Value                 SS: -2000\n",
       "(0028,1050) Window Center                       DS: '30'\n",
       "(0028,1051) Window Width                        DS: '100'\n",
       "(0028,1052) Rescale Intercept                   DS: '-1024'\n",
       "(0028,1053) Rescale Slope                       DS: '1'\n",
       "(0032,000A) Study Status ID                     CS: 'QCSUCCESS'\n",
       "(0032,000C) Study Priority ID                   CS: ''\n",
       "(0032,1030) Reason for Study                    LO: 'DIAGNOSTICS'\n",
       "(0032,1033) Requesting Service                  LO: '177'\n",
       "(0040,0244) Performed Procedure Step Start Date DA: '19950903'\n",
       "(0040,0245) Performed Procedure Step Start Time TM: '173032'\n",
       "(0040,0254) Performed Procedure Step Descriptio LO: 'CT, HEAD/BRAIN WO CONT'\n",
       "(0040,1001) Requested Procedure ID              SH: ''\n",
       "(0043,0010) Private Creator                     LO: 'GEMS_PARM_01'\n",
       "(0043,1010) [Window value]                      US: 100\n",
       "(0043,1012) [X-ray chain]                       SS: [99, 3, 5]\n",
       "(0043,1016) [Number of overranges]              SS: -1\n",
       "(0043,101E) [Delta Start Time [msec]]           DS: '0.000000'\n",
       "(0043,101F) [Max overranges in a view]          SL: 0\n",
       "(0043,1021) [Corrected after glow terms]        SS: 0\n",
       "(0043,1025) [Reference channels]                SS: [0, 0, 0, 0, 0, 0]\n",
       "(0043,1026) [No views ref chans blocked]        US: [0, 0, 0, 0, 0, 0, 0, 0]\n",
       "(0043,1027) [Scan Pitch Ratio]                  SH: ''\n",
       "(0043,1028) [Unique image iden]                 OB: b'00'\n",
       "(0043,102B) [Private Scan Options]              SS: [2, 0, 1, 0]\n",
       "(0043,1031) [Recon Center Coordinates]          DS: [0.000000, 3.100000]\n",
       "(0043,1040) [Trigger on position]               FL: 20.53598403930664\n",
       "(0043,1041) [Degree of rotation]                FL: 361.4634094238281\n",
       "(0043,1042) [DAS trigger source]                SL: 0\n",
       "(0043,1043) [DAS fpa gain]                      SL: 0\n",
       "(0043,1044) [DAS output source]                 SL: 0\n",
       "(0043,1045) [DAS ad input]                      SL: 0\n",
       "(0043,1046) [DAS cal mode]                      SL: 0\n",
       "(0043,104D) [Start scan to X-ray on delay]      FL: 0.0\n",
       "(0043,104E) [Duration of X-ray on]              FL: 2.0\n",
       "(0045,0010) Private Creator                     LO: 'GEMS_HELIOS_01'\n",
       "(0045,1001) [Number of Macro Rows in Detector]  SS: 4\n",
       "(0045,1002) [Macro width at ISO Center]         FL: 1.401298464324817e-45\n",
       "(0045,1003) [DAS type]                          SS: 5\n",
       "(0045,1004) [DAS gain]                          SS: 12\n",
       "(0045,1006) [Table Direction]                   CS: 'OUT OF GANTRY'\n",
       "(0045,1007) [Z smoothing Factor]                FL: 0.0\n",
       "(0045,1008) [View Weighting Mode]               SS: 0\n",
       "(0045,1009) [Sigma Row number]                  SS: 1\n",
       "(0045,100A) [Minimum DAS value]                 FL: 0.0\n",
       "(0045,100B) [Maximum Offset Value]              FL: 0.0\n",
       "(0045,100C) [Number of Views shifted]           SS: 0\n",
       "(0045,100D) [Z tracking Flag]                   SS: 0\n",
       "(0045,100E) [Mean Z error]                      FL: 0.0\n",
       "(0045,100F) [Z tracking Error]                  FL: 0.0\n",
       "(0045,1010) [Start View 2A]                     SS: 0\n",
       "(0045,1011) [Number of Views 2A]                SS: 0\n",
       "(0045,1012) [Start View 1A]                     SS: 0\n",
       "(0045,1013) [Sigma Mode]                        SS: 2\n",
       "(0045,1014) [Number of Views 1A]                SS: 0\n",
       "(0045,1015) [Start View 2B]                     SS: 0\n",
       "(0045,1016) [Number Views 2B]                   SS: 0\n",
       "(0045,1017) [Start View 1B]                     SS: 0\n",
       "(0045,1018) [Number of Views 1B]                SS: 0\n",
       "(0045,1021) [Iterbone Flag]                     SS: 1\n",
       "(0045,1022) [Peristaltic Flag]                  SS: 0\n",
       "(3109,000D) Private Creator                     LO: ''\n",
       "(3109,0020) Private Creator                     LO: ''\n",
       "(7FE0,0010) Pixel Data                          OW: Array of 512 elements"
      ]
     },
     "execution_count": 31,
     "metadata": {},
     "output_type": "execute_result"
    }
   ],
   "source": [
    "header = pydicom.dcmread('processed_data/de-identified-data/77654033/CT2/17106')\n",
    "header"
   ]
  },
  {
   "cell_type": "code",
   "execution_count": 32,
   "id": "9f1e3900",
   "metadata": {},
   "outputs": [
    {
     "data": {
      "text/plain": [
       "<matplotlib.image.AxesImage at 0x7fb99577ec20>"
      ]
     },
     "execution_count": 32,
     "metadata": {},
     "output_type": "execute_result"
    },
    {
     "data": {
      "image/png": "[encoded data removed]",
      "text/plain": [
       "<Figure size 640x480 with 1 Axes>"
      ]
     },
     "metadata": {},
     "output_type": "display_data"
    }
   ],
   "source": [
    "pixel_array = pydicom.pixels.pixel_array(header, decoding_plugin='pillow')\n",
    "plt.imshow(pixel_array, cmap='gray')"
   ]
  }
 ],
 "metadata": {
  "kernelspec": {
   "display_name": ".venv",
   "language": "python",
   "name": "python3"
  },
  "language_info": {
   "codemirror_mode": {
    "name": "ipython",
    "version": 3
   },
   "file_extension": ".py",
   "mimetype": "text/x-python",
   "name": "python",
   "nbconvert_exporter": "python",
   "pygments_lexer": "ipython3",
   "version": "3.10.12"
  }
 },
 "nbformat": 4,
 "nbformat_minor": 5
}
